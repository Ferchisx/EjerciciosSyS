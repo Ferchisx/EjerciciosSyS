{
  "nbformat": 4,
  "nbformat_minor": 0,
  "metadata": {
    "colab": {
      "provenance": [],
      "include_colab_link": true
    },
    "kernelspec": {
      "name": "python3",
      "display_name": "Python 3"
    }
  },
  "cells": [
    {
      "cell_type": "markdown",
      "metadata": {
        "id": "view-in-github",
        "colab_type": "text"
      },
      "source": [
        "<a href=\"https://colab.research.google.com/github/Ferchisx/EjerciciosSyS/blob/main/Copia_de_ejemplo1SyS2021.ipynb\" target=\"_parent\"><img src=\"https://colab.research.google.com/assets/colab-badge.svg\" alt=\"Open In Colab\"/></a>"
      ]
    },
    {
      "cell_type": "markdown",
      "metadata": {
        "id": "t2pmqZ1sSALd"
      },
      "source": [
        "# Introducción a la programación - Señales y Sistemas\n",
        "\n",
        "- ## [Librería numpy](https://numpy.org/) (señales digitales discretas)\n",
        "\n",
        "- ## [Librería sympy](https://www.sympy.org/es/) (emular señales continuas)"
      ]
    },
    {
      "cell_type": "code",
      "metadata": {
        "colab": {
          "base_uri": "https://localhost:8080/"
        },
        "id": "US87snjyRzXO",
        "outputId": "5b51b6a0-4fec-42ad-d9ba-2f78e561a15e"
      },
      "source": [
        "import numpy as np # importar libreria numpy\n",
        "x = 30 #tipo int\n",
        "y = 36.5 #tipo float\n",
        "\n",
        "print(type(x),type(y)) #imprimir en pantalla"
      ],
      "execution_count": null,
      "outputs": [
        {
          "output_type": "stream",
          "name": "stdout",
          "text": [
            "<class 'int'> <class 'float'>\n"
          ]
        }
      ]
    },
    {
      "cell_type": "markdown",
      "metadata": {
        "id": "opLxJCCATLiT"
      },
      "source": [
        "# Arreglo de datos en numpy\n",
        "\n",
        "- Señales en continuo\n",
        "\n",
        "  $x(t) \\in \\mathbb{R}, \\mathbb{C}$\n",
        "\n",
        "  $t \\in \\mathbb{R}$\n",
        "\n",
        "- Señales discretas\n",
        "\n",
        "  $x[t_k] \\in \\mathbb{R}, \\mathbb{C}$  \n",
        "\n",
        "  $t \\in \\{t_0,t_1,\\dots,t_{K-1}\\}$; $K \\in \\mathbb{N}$ muestras\n",
        "\n",
        "- Señales digitales\n",
        "\n",
        "  $x[t_k] \\in \\{x_0,x_1,\\dots,x_{P-1}\\};$ $P\\in \\mathbb{N}$ estados según cantidad de bits del sistema de proceso\n",
        "\n",
        "  $t \\in \\{t_0,t_1,\\dots,t_{K-1}\\}$; $K \\in \\mathbb{N}$ muestras"
      ]
    },
    {
      "cell_type": "code",
      "metadata": {
        "colab": {
          "base_uri": "https://localhost:8080/"
        },
        "id": "_KJR2CT9St31",
        "outputId": "6c4f255c-36d1-454c-c58d-6193537278d8"
      },
      "source": [
        "xv = np.array([0,-2.5,10]) #crear array tipo vector\n",
        "xv"
      ],
      "execution_count": null,
      "outputs": [
        {
          "output_type": "execute_result",
          "data": {
            "text/plain": [
              "array([ 0. , -2.5, 10. ])"
            ]
          },
          "metadata": {},
          "execution_count": 6
        }
      ]
    },
    {
      "cell_type": "markdown",
      "metadata": {
        "id": "O59ypEVJYA7I"
      },
      "source": [
        "# Listas vs numpy array\n",
        "\n",
        "- Las listas pueden contener, números, strings, y en general objetos\n",
        "\n",
        "- Los array de numpy están pensados para procesar números (matrices, tensores)."
      ]
    },
    {
      "cell_type": "code",
      "metadata": {
        "colab": {
          "base_uri": "https://localhost:8080/"
        },
        "id": "rE08MvyIWHYQ",
        "outputId": "f7d9080d-6b8e-4bb4-c1a5-d5a42100d4bd"
      },
      "source": [
        "xl = [0,-2,0.5] # no es señal digital -> lista de números\n",
        "xl"
      ],
      "execution_count": null,
      "outputs": [
        {
          "output_type": "execute_result",
          "data": {
            "text/plain": [
              "[0, -2, 0.5]"
            ]
          },
          "metadata": {},
          "execution_count": 7
        }
      ]
    },
    {
      "cell_type": "code",
      "metadata": {
        "colab": {
          "base_uri": "https://localhost:8080/"
        },
        "id": "tyZsVf7OYS5-",
        "outputId": "be2ce2f9-56f6-4760-d0b6-0acc7f9ac283"
      },
      "source": [
        "xl = ['andres marino',0.5, 2] #lista de tres elementos con un string, un flotante y un entero\n",
        "xl"
      ],
      "execution_count": null,
      "outputs": [
        {
          "output_type": "execute_result",
          "data": {
            "text/plain": [
              "['andres marino', 0.5, 2]"
            ]
          },
          "metadata": {},
          "execution_count": 8
        }
      ]
    },
    {
      "cell_type": "markdown",
      "metadata": {
        "id": "vBsDHcmiZvGi"
      },
      "source": [
        "# Tamaños, indexación y graficar numpy array"
      ]
    },
    {
      "cell_type": "code",
      "metadata": {
        "colab": {
          "base_uri": "https://localhost:8080/"
        },
        "id": "8btm8xBUaLub",
        "outputId": "0b002110-ddbc-4874-ccff-783514083c89"
      },
      "source": [
        "xv.shape # vector con 3 elementos - > shape retorna la forma (tamaño del arreglo)"
      ],
      "execution_count": null,
      "outputs": [
        {
          "output_type": "execute_result",
          "data": {
            "text/plain": [
              "(3,)"
            ]
          },
          "metadata": {},
          "execution_count": 9
        }
      ]
    },
    {
      "cell_type": "code",
      "metadata": {
        "colab": {
          "base_uri": "https://localhost:8080/"
        },
        "id": "f0nctnPlb93K",
        "outputId": "cefd8244-079f-4e80-8e55-f67c28411cfb"
      },
      "source": [
        "xm = np.array([[0,-2.5,10,4],[6,47,70,2],[8,10.2,-698,-0.9]]) #cada lista de números es tratada como una fila de la matriz\n",
        "xm"
      ],
      "execution_count": null,
      "outputs": [
        {
          "output_type": "execute_result",
          "data": {
            "text/plain": [
              "array([[   0. ,   -2.5,   10. ,    4. ],\n",
              "       [   6. ,   47. ,   70. ,    2. ],\n",
              "       [   8. ,   10.2, -698. ,   -0.9]])"
            ]
          },
          "metadata": {},
          "execution_count": 10
        }
      ]
    },
    {
      "cell_type": "code",
      "metadata": {
        "colab": {
          "base_uri": "https://localhost:8080/"
        },
        "id": "kTB4wdKtcRgr",
        "outputId": "2012c145-d39c-4ea6-97a4-5e14173ab5f0"
      },
      "source": [
        "xm.shape"
      ],
      "execution_count": null,
      "outputs": [
        {
          "output_type": "execute_result",
          "data": {
            "text/plain": [
              "(3, 4)"
            ]
          },
          "metadata": {},
          "execution_count": 11
        }
      ]
    },
    {
      "cell_type": "markdown",
      "metadata": {
        "id": "ukUay7mOct5q"
      },
      "source": [
        "# En python se indexa desde 0"
      ]
    },
    {
      "cell_type": "code",
      "metadata": {
        "colab": {
          "base_uri": "https://localhost:8080/"
        },
        "id": "UnagirzXeKcP",
        "outputId": "201846cf-e666-40c4-d0f8-357b95e0ae05"
      },
      "source": [
        "xv = np.array([-6,5,4.2,3,8,50,16])\n",
        "print(xv,xv.shape,xv[0])"
      ],
      "execution_count": null,
      "outputs": [
        {
          "output_type": "stream",
          "name": "stdout",
          "text": [
            "[-6.   5.   4.2  3.   8.  50.  16. ] (7,) -6.0\n"
          ]
        }
      ]
    },
    {
      "cell_type": "markdown",
      "metadata": {
        "id": "mpXNvhqrew-i"
      },
      "source": [
        "# En Python, cuando se indexa por rangos de valores, no se incluye el último elemento\n",
        "\n",
        "x[t_i,t_f)"
      ]
    },
    {
      "cell_type": "code",
      "metadata": {
        "colab": {
          "base_uri": "https://localhost:8080/"
        },
        "id": "W6f019owchUo",
        "outputId": "840bd1ab-ca34-4b49-81bb-cb2ae0f8adf1"
      },
      "source": [
        "xv[1:5] # x[t_0] # no se incluye el elemento 5 que equivale a x[5] = 50"
      ],
      "execution_count": null,
      "outputs": [
        {
          "output_type": "execute_result",
          "data": {
            "text/plain": [
              "array([5. , 4.2, 3. , 8. ])"
            ]
          },
          "metadata": {},
          "execution_count": 13
        }
      ]
    },
    {
      "cell_type": "markdown",
      "metadata": {
        "id": "c_ppeaIJeDdY"
      },
      "source": [
        "*Cuando se piden todos los elementos hasta el final con el operador : si se incluye el último elemento*"
      ]
    },
    {
      "cell_type": "code",
      "metadata": {
        "colab": {
          "base_uri": "https://localhost:8080/"
        },
        "id": "Oj-ACwsSd44Z",
        "outputId": "19bf0d2a-f4cb-425b-c43f-94a6ae1fd709"
      },
      "source": [
        "# desde el segundo elemento hasta el ultimo\n",
        "print(xv)\n",
        "print(xv[1:])"
      ],
      "execution_count": null,
      "outputs": [
        {
          "output_type": "stream",
          "name": "stdout",
          "text": [
            "[-6.   5.   4.2  3.   8.  50.  16. ]\n",
            "[ 5.   4.2  3.   8.  50.  16. ]\n"
          ]
        }
      ]
    },
    {
      "cell_type": "code",
      "metadata": {
        "colab": {
          "base_uri": "https://localhost:8080/"
        },
        "id": "x4rDjGH9fikT",
        "outputId": "0793662d-fce1-4d44-b1f3-04cdb1885725"
      },
      "source": [
        "#desde antes del tercer elmento hasta el principio\n",
        "print(xv)\n",
        "print(xv[:3])"
      ],
      "execution_count": null,
      "outputs": [
        {
          "output_type": "stream",
          "name": "stdout",
          "text": [
            "[-6.   5.   4.2  3.   8.  50.  16. ]\n",
            "[-6.   5.   4.2]\n"
          ]
        }
      ]
    },
    {
      "cell_type": "markdown",
      "metadata": {
        "id": "oRd9B5TBeZAD"
      },
      "source": [
        "# Para matrices se extiende la misma sintaxis para indexar vectores, pero separando la indexación por filas y por columnas"
      ]
    },
    {
      "cell_type": "code",
      "metadata": {
        "colab": {
          "base_uri": "https://localhost:8080/"
        },
        "id": "FNdwQZHvfwKo",
        "outputId": "990bfc05-4bdd-424f-a880-2415e4acf98e"
      },
      "source": [
        "print(xm)"
      ],
      "execution_count": null,
      "outputs": [
        {
          "output_type": "stream",
          "name": "stdout",
          "text": [
            "[[   0.    -2.5   10.     4. ]\n",
            " [   6.    47.    70.     2. ]\n",
            " [   8.    10.2 -698.    -0.9]]\n"
          ]
        }
      ]
    },
    {
      "cell_type": "code",
      "metadata": {
        "colab": {
          "base_uri": "https://localhost:8080/"
        },
        "id": "62ny4ZlRf9cq",
        "outputId": "485c2ec6-dde2-4f0e-efae-f43a683348ff"
      },
      "source": [
        "xm[0:2,:2]"
      ],
      "execution_count": null,
      "outputs": [
        {
          "output_type": "execute_result",
          "data": {
            "text/plain": [
              "array([[ 0. , -2.5],\n",
              "       [ 6. , 47. ]])"
            ]
          },
          "metadata": {},
          "execution_count": 17
        }
      ]
    },
    {
      "cell_type": "code",
      "metadata": {
        "colab": {
          "base_uri": "https://localhost:8080/"
        },
        "id": "5pPPj3S6gIR2",
        "outputId": "c2371507-5efa-45aa-ea96-a250837acd2f"
      },
      "source": [
        "xm[0:2,0]"
      ],
      "execution_count": null,
      "outputs": [
        {
          "output_type": "execute_result",
          "data": {
            "text/plain": [
              "array([0., 6.])"
            ]
          },
          "metadata": {},
          "execution_count": 18
        }
      ]
    },
    {
      "cell_type": "code",
      "metadata": {
        "colab": {
          "base_uri": "https://localhost:8080/"
        },
        "id": "vfJ5mxXDhurG",
        "outputId": "c75181e1-43c2-4ad4-cd16-c1d471d15f1c"
      },
      "source": [
        "xm[0,1:]"
      ],
      "execution_count": null,
      "outputs": [
        {
          "data": {
            "text/plain": [
              "array([-2.5, 10. ,  4. ])"
            ]
          },
          "execution_count": 19,
          "metadata": {},
          "output_type": "execute_result"
        }
      ]
    },
    {
      "cell_type": "code",
      "metadata": {
        "colab": {
          "base_uri": "https://localhost:8080/"
        },
        "id": "EWX_gP3rh9Y3",
        "outputId": "1199ab78-37b2-441e-8ba3-4d39d8324fc2"
      },
      "source": [
        "np.diag(xm)#diagonal del arreglo (matriz)"
      ],
      "execution_count": null,
      "outputs": [
        {
          "output_type": "execute_result",
          "data": {
            "text/plain": [
              "array([   0.,   47., -698.])"
            ]
          },
          "metadata": {},
          "execution_count": 20
        }
      ]
    },
    {
      "cell_type": "markdown",
      "metadata": {
        "id": "3fg6DJ5ViZBI"
      },
      "source": [
        "# Simular cero y pendiente  para acondicionamiento de señales\n",
        "\n",
        "- Se generará una función para emular el proceso de cero y pendiente en el acondicionamiento de señales.\n",
        "\n",
        "- Las funciones principales para generar vectores equiespaciados son [linspace](https://numpy.org/doc/stable/reference/generated/numpy.linspace.html), [range](https://www.w3schools.com/python/ref_func_range.asp) y [arange](https://numpy.org/doc/stable/reference/generated/numpy.arange.html)"
      ]
    },
    {
      "cell_type": "code",
      "metadata": {
        "colab": {
          "base_uri": "https://localhost:8080/"
        },
        "id": "QrjarvjViPOB",
        "outputId": "96dd6af2-35d0-4aa8-84d1-04696cd92943"
      },
      "source": [
        "# crear vector tiempo por rango y por número de muestras\n",
        "K = 500 # número de muestras\n",
        "ti = 0 # tiempo incial referencia [s]\n",
        "tf = 1/60 # tieimpo final  [s]\n",
        "# vector de tiempo equiespacioado\n",
        "tv = np.linspace(start=ti,stop=tf,num=K)\n",
        "print(tv)\n",
        "print(tv.shape)\n",
        "# tiempo muestreo se define según el rango de trabajo en segundos y la cantidad de muestras\n",
        "Ts = (tf - ti)/K\n",
        "print(Ts)"
      ],
      "execution_count": null,
      "outputs": [
        {
          "output_type": "stream",
          "name": "stdout",
          "text": [
            "[0.00000000e+00 3.34001336e-05 6.68002672e-05 1.00200401e-04\n",
            " 1.33600534e-04 1.67000668e-04 2.00400802e-04 2.33800935e-04\n",
            " 2.67201069e-04 3.00601202e-04 3.34001336e-04 3.67401470e-04\n",
            " 4.00801603e-04 4.34201737e-04 4.67601870e-04 5.01002004e-04\n",
            " 5.34402138e-04 5.67802271e-04 6.01202405e-04 6.34602538e-04\n",
            " 6.68002672e-04 7.01402806e-04 7.34802939e-04 7.68203073e-04\n",
            " 8.01603206e-04 8.35003340e-04 8.68403474e-04 9.01803607e-04\n",
            " 9.35203741e-04 9.68603874e-04 1.00200401e-03 1.03540414e-03\n",
            " 1.06880428e-03 1.10220441e-03 1.13560454e-03 1.16900468e-03\n",
            " 1.20240481e-03 1.23580494e-03 1.26920508e-03 1.30260521e-03\n",
            " 1.33600534e-03 1.36940548e-03 1.40280561e-03 1.43620574e-03\n",
            " 1.46960588e-03 1.50300601e-03 1.53640615e-03 1.56980628e-03\n",
            " 1.60320641e-03 1.63660655e-03 1.67000668e-03 1.70340681e-03\n",
            " 1.73680695e-03 1.77020708e-03 1.80360721e-03 1.83700735e-03\n",
            " 1.87040748e-03 1.90380762e-03 1.93720775e-03 1.97060788e-03\n",
            " 2.00400802e-03 2.03740815e-03 2.07080828e-03 2.10420842e-03\n",
            " 2.13760855e-03 2.17100868e-03 2.20440882e-03 2.23780895e-03\n",
            " 2.27120908e-03 2.30460922e-03 2.33800935e-03 2.37140949e-03\n",
            " 2.40480962e-03 2.43820975e-03 2.47160989e-03 2.50501002e-03\n",
            " 2.53841015e-03 2.57181029e-03 2.60521042e-03 2.63861055e-03\n",
            " 2.67201069e-03 2.70541082e-03 2.73881096e-03 2.77221109e-03\n",
            " 2.80561122e-03 2.83901136e-03 2.87241149e-03 2.90581162e-03\n",
            " 2.93921176e-03 2.97261189e-03 3.00601202e-03 3.03941216e-03\n",
            " 3.07281229e-03 3.10621242e-03 3.13961256e-03 3.17301269e-03\n",
            " 3.20641283e-03 3.23981296e-03 3.27321309e-03 3.30661323e-03\n",
            " 3.34001336e-03 3.37341349e-03 3.40681363e-03 3.44021376e-03\n",
            " 3.47361389e-03 3.50701403e-03 3.54041416e-03 3.57381430e-03\n",
            " 3.60721443e-03 3.64061456e-03 3.67401470e-03 3.70741483e-03\n",
            " 3.74081496e-03 3.77421510e-03 3.80761523e-03 3.84101536e-03\n",
            " 3.87441550e-03 3.90781563e-03 3.94121576e-03 3.97461590e-03\n",
            " 4.00801603e-03 4.04141617e-03 4.07481630e-03 4.10821643e-03\n",
            " 4.14161657e-03 4.17501670e-03 4.20841683e-03 4.24181697e-03\n",
            " 4.27521710e-03 4.30861723e-03 4.34201737e-03 4.37541750e-03\n",
            " 4.40881764e-03 4.44221777e-03 4.47561790e-03 4.50901804e-03\n",
            " 4.54241817e-03 4.57581830e-03 4.60921844e-03 4.64261857e-03\n",
            " 4.67601870e-03 4.70941884e-03 4.74281897e-03 4.77621910e-03\n",
            " 4.80961924e-03 4.84301937e-03 4.87641951e-03 4.90981964e-03\n",
            " 4.94321977e-03 4.97661991e-03 5.01002004e-03 5.04342017e-03\n",
            " 5.07682031e-03 5.11022044e-03 5.14362057e-03 5.17702071e-03\n",
            " 5.21042084e-03 5.24382098e-03 5.27722111e-03 5.31062124e-03\n",
            " 5.34402138e-03 5.37742151e-03 5.41082164e-03 5.44422178e-03\n",
            " 5.47762191e-03 5.51102204e-03 5.54442218e-03 5.57782231e-03\n",
            " 5.61122244e-03 5.64462258e-03 5.67802271e-03 5.71142285e-03\n",
            " 5.74482298e-03 5.77822311e-03 5.81162325e-03 5.84502338e-03\n",
            " 5.87842351e-03 5.91182365e-03 5.94522378e-03 5.97862391e-03\n",
            " 6.01202405e-03 6.04542418e-03 6.07882432e-03 6.11222445e-03\n",
            " 6.14562458e-03 6.17902472e-03 6.21242485e-03 6.24582498e-03\n",
            " 6.27922512e-03 6.31262525e-03 6.34602538e-03 6.37942552e-03\n",
            " 6.41282565e-03 6.44622578e-03 6.47962592e-03 6.51302605e-03\n",
            " 6.54642619e-03 6.57982632e-03 6.61322645e-03 6.64662659e-03\n",
            " 6.68002672e-03 6.71342685e-03 6.74682699e-03 6.78022712e-03\n",
            " 6.81362725e-03 6.84702739e-03 6.88042752e-03 6.91382766e-03\n",
            " 6.94722779e-03 6.98062792e-03 7.01402806e-03 7.04742819e-03\n",
            " 7.08082832e-03 7.11422846e-03 7.14762859e-03 7.18102872e-03\n",
            " 7.21442886e-03 7.24782899e-03 7.28122912e-03 7.31462926e-03\n",
            " 7.34802939e-03 7.38142953e-03 7.41482966e-03 7.44822979e-03\n",
            " 7.48162993e-03 7.51503006e-03 7.54843019e-03 7.58183033e-03\n",
            " 7.61523046e-03 7.64863059e-03 7.68203073e-03 7.71543086e-03\n",
            " 7.74883100e-03 7.78223113e-03 7.81563126e-03 7.84903140e-03\n",
            " 7.88243153e-03 7.91583166e-03 7.94923180e-03 7.98263193e-03\n",
            " 8.01603206e-03 8.04943220e-03 8.08283233e-03 8.11623246e-03\n",
            " 8.14963260e-03 8.18303273e-03 8.21643287e-03 8.24983300e-03\n",
            " 8.28323313e-03 8.31663327e-03 8.35003340e-03 8.38343353e-03\n",
            " 8.41683367e-03 8.45023380e-03 8.48363393e-03 8.51703407e-03\n",
            " 8.55043420e-03 8.58383434e-03 8.61723447e-03 8.65063460e-03\n",
            " 8.68403474e-03 8.71743487e-03 8.75083500e-03 8.78423514e-03\n",
            " 8.81763527e-03 8.85103540e-03 8.88443554e-03 8.91783567e-03\n",
            " 8.95123580e-03 8.98463594e-03 9.01803607e-03 9.05143621e-03\n",
            " 9.08483634e-03 9.11823647e-03 9.15163661e-03 9.18503674e-03\n",
            " 9.21843687e-03 9.25183701e-03 9.28523714e-03 9.31863727e-03\n",
            " 9.35203741e-03 9.38543754e-03 9.41883768e-03 9.45223781e-03\n",
            " 9.48563794e-03 9.51903808e-03 9.55243821e-03 9.58583834e-03\n",
            " 9.61923848e-03 9.65263861e-03 9.68603874e-03 9.71943888e-03\n",
            " 9.75283901e-03 9.78623914e-03 9.81963928e-03 9.85303941e-03\n",
            " 9.88643955e-03 9.91983968e-03 9.95323981e-03 9.98663995e-03\n",
            " 1.00200401e-02 1.00534402e-02 1.00868403e-02 1.01202405e-02\n",
            " 1.01536406e-02 1.01870407e-02 1.02204409e-02 1.02538410e-02\n",
            " 1.02872411e-02 1.03206413e-02 1.03540414e-02 1.03874415e-02\n",
            " 1.04208417e-02 1.04542418e-02 1.04876420e-02 1.05210421e-02\n",
            " 1.05544422e-02 1.05878424e-02 1.06212425e-02 1.06546426e-02\n",
            " 1.06880428e-02 1.07214429e-02 1.07548430e-02 1.07882432e-02\n",
            " 1.08216433e-02 1.08550434e-02 1.08884436e-02 1.09218437e-02\n",
            " 1.09552438e-02 1.09886440e-02 1.10220441e-02 1.10554442e-02\n",
            " 1.10888444e-02 1.11222445e-02 1.11556446e-02 1.11890448e-02\n",
            " 1.12224449e-02 1.12558450e-02 1.12892452e-02 1.13226453e-02\n",
            " 1.13560454e-02 1.13894456e-02 1.14228457e-02 1.14562458e-02\n",
            " 1.14896460e-02 1.15230461e-02 1.15564462e-02 1.15898464e-02\n",
            " 1.16232465e-02 1.16566466e-02 1.16900468e-02 1.17234469e-02\n",
            " 1.17568470e-02 1.17902472e-02 1.18236473e-02 1.18570474e-02\n",
            " 1.18904476e-02 1.19238477e-02 1.19572478e-02 1.19906480e-02\n",
            " 1.20240481e-02 1.20574482e-02 1.20908484e-02 1.21242485e-02\n",
            " 1.21576486e-02 1.21910488e-02 1.22244489e-02 1.22578490e-02\n",
            " 1.22912492e-02 1.23246493e-02 1.23580494e-02 1.23914496e-02\n",
            " 1.24248497e-02 1.24582498e-02 1.24916500e-02 1.25250501e-02\n",
            " 1.25584502e-02 1.25918504e-02 1.26252505e-02 1.26586506e-02\n",
            " 1.26920508e-02 1.27254509e-02 1.27588510e-02 1.27922512e-02\n",
            " 1.28256513e-02 1.28590514e-02 1.28924516e-02 1.29258517e-02\n",
            " 1.29592518e-02 1.29926520e-02 1.30260521e-02 1.30594522e-02\n",
            " 1.30928524e-02 1.31262525e-02 1.31596526e-02 1.31930528e-02\n",
            " 1.32264529e-02 1.32598530e-02 1.32932532e-02 1.33266533e-02\n",
            " 1.33600534e-02 1.33934536e-02 1.34268537e-02 1.34602538e-02\n",
            " 1.34936540e-02 1.35270541e-02 1.35604542e-02 1.35938544e-02\n",
            " 1.36272545e-02 1.36606546e-02 1.36940548e-02 1.37274549e-02\n",
            " 1.37608550e-02 1.37942552e-02 1.38276553e-02 1.38610554e-02\n",
            " 1.38944556e-02 1.39278557e-02 1.39612558e-02 1.39946560e-02\n",
            " 1.40280561e-02 1.40614562e-02 1.40948564e-02 1.41282565e-02\n",
            " 1.41616566e-02 1.41950568e-02 1.42284569e-02 1.42618570e-02\n",
            " 1.42952572e-02 1.43286573e-02 1.43620574e-02 1.43954576e-02\n",
            " 1.44288577e-02 1.44622578e-02 1.44956580e-02 1.45290581e-02\n",
            " 1.45624582e-02 1.45958584e-02 1.46292585e-02 1.46626587e-02\n",
            " 1.46960588e-02 1.47294589e-02 1.47628591e-02 1.47962592e-02\n",
            " 1.48296593e-02 1.48630595e-02 1.48964596e-02 1.49298597e-02\n",
            " 1.49632599e-02 1.49966600e-02 1.50300601e-02 1.50634603e-02\n",
            " 1.50968604e-02 1.51302605e-02 1.51636607e-02 1.51970608e-02\n",
            " 1.52304609e-02 1.52638611e-02 1.52972612e-02 1.53306613e-02\n",
            " 1.53640615e-02 1.53974616e-02 1.54308617e-02 1.54642619e-02\n",
            " 1.54976620e-02 1.55310621e-02 1.55644623e-02 1.55978624e-02\n",
            " 1.56312625e-02 1.56646627e-02 1.56980628e-02 1.57314629e-02\n",
            " 1.57648631e-02 1.57982632e-02 1.58316633e-02 1.58650635e-02\n",
            " 1.58984636e-02 1.59318637e-02 1.59652639e-02 1.59986640e-02\n",
            " 1.60320641e-02 1.60654643e-02 1.60988644e-02 1.61322645e-02\n",
            " 1.61656647e-02 1.61990648e-02 1.62324649e-02 1.62658651e-02\n",
            " 1.62992652e-02 1.63326653e-02 1.63660655e-02 1.63994656e-02\n",
            " 1.64328657e-02 1.64662659e-02 1.64996660e-02 1.65330661e-02\n",
            " 1.65664663e-02 1.65998664e-02 1.66332665e-02 1.66666667e-02]\n",
            "(500,)\n",
            "3.3333333333333335e-05\n"
          ]
        }
      ]
    },
    {
      "cell_type": "markdown",
      "metadata": {
        "id": "BDLYDuPdkyZE"
      },
      "source": [
        "- Supongamos la función cuadrática:\n",
        "\n",
        "$x(t) = a t^2 + b;$\n",
        "\n",
        "$\\forall t \\in [t_i,t_f]$\n",
        "\n",
        "- Se pretende generar el proceso de discretización según:\n",
        "\n",
        "$x[t_k] = a t_k^2 + b$\n",
        "\n",
        "\n",
        "\n"
      ]
    },
    {
      "cell_type": "code",
      "metadata": {
        "colab": {
          "base_uri": "https://localhost:8080/"
        },
        "id": "4LzvHXKeiwwE",
        "outputId": "0af67556-f18d-4015-ea73-e5ecd10377a2"
      },
      "source": [
        "#parámetros parabola\n",
        "a = 4\n",
        "b = -3\n",
        "xv = a*(tv**2) + b # creamos parabola en tiempo discreto-> **  pontencia\n",
        "print(xv)\n",
        "print(xv.shape)"
      ],
      "execution_count": null,
      "outputs": [
        {
          "output_type": "stream",
          "name": "stdout",
          "text": [
            "[-3.         -3.         -2.99999998 -2.99999996 -2.99999993 -2.99999989\n",
            " -2.99999984 -2.99999978 -2.99999971 -2.99999964 -2.99999955 -2.99999946\n",
            " -2.99999936 -2.99999925 -2.99999913 -2.999999   -2.99999886 -2.99999871\n",
            " -2.99999855 -2.99999839 -2.99999822 -2.99999803 -2.99999784 -2.99999764\n",
            " -2.99999743 -2.99999721 -2.99999698 -2.99999675 -2.9999965  -2.99999625\n",
            " -2.99999598 -2.99999571 -2.99999543 -2.99999514 -2.99999484 -2.99999453\n",
            " -2.99999422 -2.99999389 -2.99999356 -2.99999321 -2.99999286 -2.9999925\n",
            " -2.99999213 -2.99999175 -2.99999136 -2.99999096 -2.99999056 -2.99999014\n",
            " -2.99998972 -2.99998929 -2.99998884 -2.99998839 -2.99998793 -2.99998747\n",
            " -2.99998699 -2.9999865  -2.99998601 -2.9999855  -2.99998499 -2.99998447\n",
            " -2.99998394 -2.9999834  -2.99998285 -2.99998229 -2.99998172 -2.99998115\n",
            " -2.99998056 -2.99997997 -2.99997937 -2.99997876 -2.99997813 -2.99997751\n",
            " -2.99997687 -2.99997622 -2.99997556 -2.9999749  -2.99997423 -2.99997354\n",
            " -2.99997285 -2.99997215 -2.99997144 -2.99997072 -2.99997    -2.99996926\n",
            " -2.99996851 -2.99996776 -2.999967   -2.99996623 -2.99996544 -2.99996465\n",
            " -2.99996386 -2.99996305 -2.99996223 -2.99996141 -2.99996057 -2.99995973\n",
            " -2.99995888 -2.99995801 -2.99995714 -2.99995627 -2.99995538 -2.99995448\n",
            " -2.99995357 -2.99995266 -2.99995174 -2.9999508  -2.99994986 -2.99994891\n",
            " -2.99994795 -2.99994698 -2.99994601 -2.99994502 -2.99994403 -2.99994302\n",
            " -2.99994201 -2.99994099 -2.99993996 -2.99993892 -2.99993787 -2.99993681\n",
            " -2.99993574 -2.99993467 -2.99993358 -2.99993249 -2.99993139 -2.99993028\n",
            " -2.99992916 -2.99992803 -2.99992689 -2.99992574 -2.99992459 -2.99992342\n",
            " -2.99992225 -2.99992107 -2.99991988 -2.99991868 -2.99991747 -2.99991625\n",
            " -2.99991502 -2.99991378 -2.99991254 -2.99991129 -2.99991002 -2.99990875\n",
            " -2.99990747 -2.99990618 -2.99990488 -2.99990357 -2.99990226 -2.99990093\n",
            " -2.9998996  -2.99989826 -2.9998969  -2.99989554 -2.99989417 -2.99989279\n",
            " -2.99989141 -2.99989001 -2.9998886  -2.99988719 -2.99988577 -2.99988433\n",
            " -2.99988289 -2.99988144 -2.99987998 -2.99987851 -2.99987704 -2.99987555\n",
            " -2.99987406 -2.99987255 -2.99987104 -2.99986952 -2.99986799 -2.99986645\n",
            " -2.9998649  -2.99986334 -2.99986178 -2.9998602  -2.99985862 -2.99985702\n",
            " -2.99985542 -2.99985381 -2.99985219 -2.99985056 -2.99984893 -2.99984728\n",
            " -2.99984562 -2.99984396 -2.99984229 -2.9998406  -2.99983891 -2.99983721\n",
            " -2.9998355  -2.99983378 -2.99983206 -2.99983032 -2.99982858 -2.99982682\n",
            " -2.99982506 -2.99982329 -2.99982151 -2.99981972 -2.99981792 -2.99981611\n",
            " -2.9998143  -2.99981247 -2.99981064 -2.9998088  -2.99980694 -2.99980508\n",
            " -2.99980321 -2.99980134 -2.99979945 -2.99979755 -2.99979565 -2.99979373\n",
            " -2.99979181 -2.99978988 -2.99978793 -2.99978598 -2.99978403 -2.99978206\n",
            " -2.99978008 -2.9997781  -2.9997761  -2.9997741  -2.99977208 -2.99977006\n",
            " -2.99976803 -2.99976599 -2.99976395 -2.99976189 -2.99975982 -2.99975775\n",
            " -2.99975566 -2.99975357 -2.99975147 -2.99974936 -2.99974724 -2.99974511\n",
            " -2.99974297 -2.99974083 -2.99973867 -2.99973651 -2.99973433 -2.99973215\n",
            " -2.99972996 -2.99972776 -2.99972555 -2.99972333 -2.99972111 -2.99971887\n",
            " -2.99971663 -2.99971437 -2.99971211 -2.99970984 -2.99970756 -2.99970527\n",
            " -2.99970297 -2.99970067 -2.99969835 -2.99969603 -2.99969369 -2.99969135\n",
            " -2.999689   -2.99968664 -2.99968427 -2.99968189 -2.9996795  -2.99967711\n",
            " -2.9996747  -2.99967229 -2.99966986 -2.99966743 -2.99966499 -2.99966254\n",
            " -2.99966008 -2.99965761 -2.99965514 -2.99965265 -2.99965016 -2.99964765\n",
            " -2.99964514 -2.99964262 -2.99964009 -2.99963755 -2.999635   -2.99963245\n",
            " -2.99962988 -2.99962731 -2.99962472 -2.99962213 -2.99961953 -2.99961692\n",
            " -2.9996143  -2.99961167 -2.99960903 -2.99960639 -2.99960373 -2.99960107\n",
            " -2.9995984  -2.99959571 -2.99959302 -2.99959032 -2.99958761 -2.9995849\n",
            " -2.99958217 -2.99957943 -2.99957669 -2.99957394 -2.99957118 -2.9995684\n",
            " -2.99956562 -2.99956284 -2.99956004 -2.99955723 -2.99955441 -2.99955159\n",
            " -2.99954876 -2.99954591 -2.99954306 -2.9995402  -2.99953733 -2.99953446\n",
            " -2.99953157 -2.99952867 -2.99952577 -2.99952285 -2.99951993 -2.999517\n",
            " -2.99951406 -2.99951111 -2.99950815 -2.99950518 -2.99950221 -2.99949922\n",
            " -2.99949623 -2.99949322 -2.99949021 -2.99948719 -2.99948416 -2.99948112\n",
            " -2.99947807 -2.99947502 -2.99947195 -2.99946888 -2.99946579 -2.9994627\n",
            " -2.9994596  -2.99945649 -2.99945337 -2.99945024 -2.99944711 -2.99944396\n",
            " -2.99944081 -2.99943764 -2.99943447 -2.99943129 -2.9994281  -2.9994249\n",
            " -2.99942169 -2.99941847 -2.99941525 -2.99941201 -2.99940877 -2.99940551\n",
            " -2.99940225 -2.99939898 -2.9993957  -2.99939241 -2.99938911 -2.99938581\n",
            " -2.99938249 -2.99937917 -2.99937583 -2.99937249 -2.99936914 -2.99936578\n",
            " -2.99936241 -2.99935903 -2.99935565 -2.99935225 -2.99934885 -2.99934543\n",
            " -2.99934201 -2.99933858 -2.99933514 -2.99933169 -2.99932823 -2.99932476\n",
            " -2.99932129 -2.9993178  -2.99931431 -2.99931081 -2.99930729 -2.99930377\n",
            " -2.99930024 -2.99929671 -2.99929316 -2.9992896  -2.99928604 -2.99928246\n",
            " -2.99927888 -2.99927529 -2.99927169 -2.99926808 -2.99926446 -2.99926083\n",
            " -2.99925719 -2.99925355 -2.99924989 -2.99924623 -2.99924256 -2.99923887\n",
            " -2.99923518 -2.99923148 -2.99922778 -2.99922406 -2.99922033 -2.9992166\n",
            " -2.99921285 -2.9992091  -2.99920534 -2.99920157 -2.99919779 -2.999194\n",
            " -2.9991902  -2.9991864  -2.99918258 -2.99917876 -2.99917493 -2.99917108\n",
            " -2.99916723 -2.99916337 -2.9991595  -2.99915563 -2.99915174 -2.99914784\n",
            " -2.99914394 -2.99914003 -2.9991361  -2.99913217 -2.99912823 -2.99912428\n",
            " -2.99912032 -2.99911636 -2.99911238 -2.9991084  -2.9991044  -2.9991004\n",
            " -2.99909639 -2.99909237 -2.99908834 -2.9990843  -2.99908025 -2.9990762\n",
            " -2.99907213 -2.99906806 -2.99906398 -2.99905988 -2.99905578 -2.99905167\n",
            " -2.99904755 -2.99904343 -2.99903929 -2.99903514 -2.99903099 -2.99902683\n",
            " -2.99902265 -2.99901847 -2.99901428 -2.99901008 -2.99900588 -2.99900166\n",
            " -2.99899743 -2.9989932  -2.99898896 -2.9989847  -2.99898044 -2.99897617\n",
            " -2.99897189 -2.9989676  -2.99896331 -2.998959   -2.99895469 -2.99895036\n",
            " -2.99894603 -2.99894169 -2.99893734 -2.99893298 -2.99892861 -2.99892423\n",
            " -2.99891984 -2.99891545 -2.99891104 -2.99890663 -2.99890221 -2.99889778\n",
            " -2.99889334 -2.99888889]\n",
            "(500,)\n"
          ]
        }
      ]
    },
    {
      "cell_type": "code",
      "metadata": {
        "colab": {
          "base_uri": "https://localhost:8080/",
          "height": 465
        },
        "id": "CikgadYnljWq",
        "outputId": "4cfa1962-213c-48b2-cec8-ecf5d48ecd61"
      },
      "source": [
        "import matplotlib.pyplot as plt #librería para gráficas básicas en python\n",
        "\n",
        "plt.plot(tv,xv,'r.') #vector en eje horizontal, vector eje vertical, color y marcador\n",
        "plt.xlabel('tiempo [s]')\n",
        "plt.ylabel('$x[t_k]$') # $ $ ecuación latex\n",
        "plt.show() #mostrar gráfica"
      ],
      "execution_count": null,
      "outputs": [
        {
          "output_type": "display_data",
          "data": {
            "text/plain": [
              "<Figure size 640x480 with 1 Axes>"
            ],
            "image/png": "[encoded data removed]"
          },
          "metadata": {}
        }
      ]
    },
    {
      "cell_type": "markdown",
      "metadata": {
        "id": "W46sUb3AGP81"
      },
      "source": [
        "## Cálculo de pendiente y del offset (cero)\n",
        "\n",
        "$$ y[t_k] \\in [y_{min},y_{max}]$$\n",
        "\n",
        "$$y[t_k] = m x[t_k] + c$$\n",
        "\n",
        "$$m = \\frac{y_{max}-y_{min}}{x_{max}-x_{min}}$$\n",
        "\n",
        "$$c = y[t_k] - m x[t_k]$$\n",
        "\n",
        "- Se crea un código tipo función bajo el ambiente def, para generar el cero y pendiente según los valores $y_{max}$ y $y_{min}$ definidos por el usuario."
      ]
    },
    {
      "cell_type": "code",
      "metadata": {
        "id": "ozcRD-a1mlcf"
      },
      "source": [
        "y_min = 0 # valor min después de cero y pendiente\n",
        "y_max = 5 # valor max después de cero y pendiente\n",
        "#crear funcion en python\n",
        "def my_ceropen(x,ymin = 0, ymax = 5): #en general se pueden definir valores por defecto\n",
        "  '''\n",
        "  Codigo base para simular proceso de cero y pendiente\n",
        "  Se ingresa arreglo de numpy y los valores min  y max despues de cero y pendiente\n",
        "  '''\n",
        "  xmax = max(x) # x.max()\n",
        "  xmin = min(x) # x.min()\n",
        "  m = (ymax - ymin)/(xmax - xmin)\n",
        "  c = ymin - m*xmin\n",
        "  yv = m*x + c\n",
        "  return yv"
      ],
      "execution_count": null,
      "outputs": []
    },
    {
      "cell_type": "code",
      "metadata": {
        "id": "VePiF__hKrsp"
      },
      "source": [
        "yv = my_ceropen(xv,ymin=0,ymax=5) #se llama la función definida en la celda anterior"
      ],
      "execution_count": null,
      "outputs": []
    },
    {
      "cell_type": "code",
      "metadata": {
        "colab": {
          "base_uri": "https://localhost:8080/"
        },
        "id": "S3GcTF_hKQ-R",
        "outputId": "b321d457-7362-48aa-dab3-d0194a3ec018"
      },
      "source": [
        "print(yv)\n",
        "print(yv.shape)"
      ],
      "execution_count": null,
      "outputs": [
        {
          "output_type": "stream",
          "name": "stdout",
          "text": [
            "[0.00000000e+00 2.00802406e-05 8.03209605e-05 1.80722165e-04\n",
            " 3.21283849e-04 5.02006016e-04 7.22888662e-04 9.83931792e-04\n",
            " 1.28513540e-03 1.62649949e-03 2.00802406e-03 2.42970912e-03\n",
            " 2.89155465e-03 3.39356067e-03 3.93572717e-03 4.51805414e-03\n",
            " 5.14054160e-03 5.80318954e-03 6.50599797e-03 7.24896687e-03\n",
            " 8.03209626e-03 8.85538612e-03 9.71883647e-03 1.06224473e-02\n",
            " 1.15662186e-02 1.25501504e-02 1.35742427e-02 1.46384954e-02\n",
            " 1.57429087e-02 1.68874824e-02 1.80722166e-02 1.92971113e-02\n",
            " 2.05621664e-02 2.18673821e-02 2.32127582e-02 2.45982948e-02\n",
            " 2.60239919e-02 2.74898494e-02 2.89958675e-02 3.05420460e-02\n",
            " 3.21283850e-02 3.37548845e-02 3.54215445e-02 3.71283649e-02\n",
            " 3.88753459e-02 4.06624873e-02 4.24897892e-02 4.43572516e-02\n",
            " 4.62648744e-02 4.82126578e-02 5.02006016e-02 5.22287059e-02\n",
            " 5.42969707e-02 5.64053960e-02 5.85539817e-02 6.07427279e-02\n",
            " 6.29716347e-02 6.52407018e-02 6.75499295e-02 6.98993177e-02\n",
            " 7.22888663e-02 7.47185754e-02 7.71884450e-02 7.96984751e-02\n",
            " 8.22486657e-02 8.48390167e-02 8.74695282e-02 9.01402002e-02\n",
            " 9.28510327e-02 9.56020257e-02 9.83931791e-02 1.01224493e-01\n",
            " 1.04095967e-01 1.07007602e-01 1.09959398e-01 1.12951354e-01\n",
            " 1.15983470e-01 1.19055747e-01 1.22168184e-01 1.25320782e-01\n",
            " 1.28513540e-01 1.31746459e-01 1.35019538e-01 1.38332778e-01\n",
            " 1.41686178e-01 1.45079739e-01 1.48513460e-01 1.51987341e-01\n",
            " 1.55501384e-01 1.59055586e-01 1.62649949e-01 1.66284473e-01\n",
            " 1.69959157e-01 1.73674001e-01 1.77429006e-01 1.81224172e-01\n",
            " 1.85059498e-01 1.88934984e-01 1.92850631e-01 1.96806439e-01\n",
            " 2.00802406e-01 2.04838535e-01 2.08914824e-01 2.13031273e-01\n",
            " 2.17187883e-01 2.21384653e-01 2.25621584e-01 2.29898675e-01\n",
            " 2.34215927e-01 2.38573339e-01 2.42970912e-01 2.47408645e-01\n",
            " 2.51886539e-01 2.56404593e-01 2.60962807e-01 2.65561182e-01\n",
            " 2.70199718e-01 2.74878414e-01 2.79597271e-01 2.84356288e-01\n",
            " 2.89155465e-01 2.93994803e-01 2.98874302e-01 3.03793961e-01\n",
            " 3.08753780e-01 3.13753760e-01 3.18793900e-01 3.23874201e-01\n",
            " 3.28994663e-01 3.34155285e-01 3.39356067e-01 3.44597010e-01\n",
            " 3.49878113e-01 3.55199377e-01 3.60560801e-01 3.65962386e-01\n",
            " 3.71404131e-01 3.76886037e-01 3.82408103e-01 3.87970329e-01\n",
            " 3.93572717e-01 3.99215264e-01 4.04897972e-01 4.10620841e-01\n",
            " 4.16383870e-01 4.22187059e-01 4.28030410e-01 4.33913920e-01\n",
            " 4.39837591e-01 4.45801422e-01 4.51805414e-01 4.57849567e-01\n",
            " 4.63933880e-01 4.70058353e-01 4.76222987e-01 4.82427781e-01\n",
            " 4.88672736e-01 4.94957852e-01 5.01283127e-01 5.07648564e-01\n",
            " 5.14054160e-01 5.20499918e-01 5.26985835e-01 5.33511914e-01\n",
            " 5.40078152e-01 5.46684551e-01 5.53331111e-01 5.60017831e-01\n",
            " 5.66744712e-01 5.73511753e-01 5.80318955e-01 5.87166317e-01\n",
            " 5.94053839e-01 6.00981522e-01 6.07949366e-01 6.14957370e-01\n",
            " 6.22005534e-01 6.29093859e-01 6.36222344e-01 6.43390990e-01\n",
            " 6.50599797e-01 6.57848764e-01 6.65137891e-01 6.72467179e-01\n",
            " 6.79836627e-01 6.87246236e-01 6.94696005e-01 7.02185935e-01\n",
            " 7.09716025e-01 7.17286276e-01 7.24896687e-01 7.32547259e-01\n",
            " 7.40237991e-01 7.47968884e-01 7.55739937e-01 7.63551150e-01\n",
            " 7.71402524e-01 7.79294059e-01 7.87225754e-01 7.95197610e-01\n",
            " 8.03209626e-01 8.11261802e-01 8.19354139e-01 8.27486637e-01\n",
            " 8.35659295e-01 8.43872113e-01 8.52125092e-01 8.60418231e-01\n",
            " 8.68751531e-01 8.77124991e-01 8.85538612e-01 8.93992394e-01\n",
            " 9.02486335e-01 9.11020438e-01 9.19594700e-01 9.28209124e-01\n",
            " 9.36863707e-01 9.45558452e-01 9.54293356e-01 9.63068421e-01\n",
            " 9.71883647e-01 9.80739033e-01 9.89634580e-01 9.98570287e-01\n",
            " 1.00754615e+00 1.01656218e+00 1.02561837e+00 1.03471472e+00\n",
            " 1.04385123e+00 1.05302790e+00 1.06224473e+00 1.07150172e+00\n",
            " 1.08079887e+00 1.09013618e+00 1.09951366e+00 1.10893129e+00\n",
            " 1.11838908e+00 1.12788704e+00 1.13742515e+00 1.14700343e+00\n",
            " 1.15662186e+00 1.16628046e+00 1.17597921e+00 1.18571813e+00\n",
            " 1.19549721e+00 1.20531644e+00 1.21517584e+00 1.22507540e+00\n",
            " 1.23501512e+00 1.24499500e+00 1.25501504e+00 1.26507524e+00\n",
            " 1.27517560e+00 1.28531612e+00 1.29549681e+00 1.30571765e+00\n",
            " 1.31597865e+00 1.32627981e+00 1.33662114e+00 1.34700262e+00\n",
            " 1.35742427e+00 1.36788607e+00 1.37838804e+00 1.38893016e+00\n",
            " 1.39951245e+00 1.41013490e+00 1.42079751e+00 1.43150028e+00\n",
            " 1.44224320e+00 1.45302629e+00 1.46384954e+00 1.47471295e+00\n",
            " 1.48561652e+00 1.49656025e+00 1.50754415e+00 1.51856820e+00\n",
            " 1.52963241e+00 1.54073678e+00 1.55188132e+00 1.56306601e+00\n",
            " 1.57429087e+00 1.58555588e+00 1.59686106e+00 1.60820639e+00\n",
            " 1.61959189e+00 1.63101755e+00 1.64248336e+00 1.65398934e+00\n",
            " 1.66553548e+00 1.67712178e+00 1.68874824e+00 1.70041486e+00\n",
            " 1.71212164e+00 1.72386858e+00 1.73565568e+00 1.74748294e+00\n",
            " 1.75935036e+00 1.77125795e+00 1.78320569e+00 1.79519359e+00\n",
            " 1.80722166e+00 1.81928988e+00 1.83139827e+00 1.84354681e+00\n",
            " 1.85573552e+00 1.86796439e+00 1.88023341e+00 1.89254260e+00\n",
            " 1.90489195e+00 1.91728146e+00 1.92971113e+00 1.94218096e+00\n",
            " 1.95469095e+00 1.96724110e+00 1.97983141e+00 1.99246188e+00\n",
            " 2.00513251e+00 2.01784330e+00 2.03059425e+00 2.04338537e+00\n",
            " 2.05621664e+00 2.06908808e+00 2.08199967e+00 2.09495143e+00\n",
            " 2.10794334e+00 2.12097542e+00 2.13404765e+00 2.14716005e+00\n",
            " 2.16031261e+00 2.17350533e+00 2.18673821e+00 2.20001124e+00\n",
            " 2.21332444e+00 2.22667780e+00 2.24007133e+00 2.25350501e+00\n",
            " 2.26697885e+00 2.28049285e+00 2.29404701e+00 2.30764133e+00\n",
            " 2.32127582e+00 2.33495046e+00 2.34866527e+00 2.36242023e+00\n",
            " 2.37621536e+00 2.39005064e+00 2.40392609e+00 2.41784170e+00\n",
            " 2.43179746e+00 2.44579339e+00 2.45982948e+00 2.47390573e+00\n",
            " 2.48802214e+00 2.50217871e+00 2.51637544e+00 2.53061233e+00\n",
            " 2.54488938e+00 2.55920659e+00 2.57356396e+00 2.58796149e+00\n",
            " 2.60239919e+00 2.61687704e+00 2.63139505e+00 2.64595323e+00\n",
            " 2.66055156e+00 2.67519006e+00 2.68986872e+00 2.70458753e+00\n",
            " 2.71934651e+00 2.73414565e+00 2.74898494e+00 2.76386440e+00\n",
            " 2.77878402e+00 2.79374380e+00 2.80874374e+00 2.82378384e+00\n",
            " 2.83886410e+00 2.85398452e+00 2.86914510e+00 2.88434585e+00\n",
            " 2.89958675e+00 2.91486781e+00 2.93018904e+00 2.94555042e+00\n",
            " 2.96095196e+00 2.97639367e+00 2.99187553e+00 3.00739756e+00\n",
            " 3.02295975e+00 3.03856209e+00 3.05420460e+00 3.06988727e+00\n",
            " 3.08561010e+00 3.10137309e+00 3.11717624e+00 3.13301955e+00\n",
            " 3.14890302e+00 3.16482665e+00 3.18079044e+00 3.19679439e+00\n",
            " 3.21283850e+00 3.22892278e+00 3.24504721e+00 3.26121180e+00\n",
            " 3.27741656e+00 3.29366147e+00 3.30994655e+00 3.32627178e+00\n",
            " 3.34263718e+00 3.35904273e+00 3.37548845e+00 3.39197433e+00\n",
            " 3.40850037e+00 3.42506657e+00 3.44167293e+00 3.45831944e+00\n",
            " 3.47500612e+00 3.49173296e+00 3.50849997e+00 3.52530713e+00\n",
            " 3.54215445e+00 3.55904193e+00 3.57596957e+00 3.59293738e+00\n",
            " 3.60994534e+00 3.62699347e+00 3.64408175e+00 3.66121020e+00\n",
            " 3.67837880e+00 3.69558757e+00 3.71283649e+00 3.73012558e+00\n",
            " 3.74745483e+00 3.76482424e+00 3.78223381e+00 3.79968354e+00\n",
            " 3.81717343e+00 3.83470348e+00 3.85227369e+00 3.86988406e+00\n",
            " 3.88753459e+00 3.90522528e+00 3.92295613e+00 3.94072715e+00\n",
            " 3.95853832e+00 3.97638965e+00 3.99428115e+00 4.01221280e+00\n",
            " 4.03018462e+00 4.04819659e+00 4.06624873e+00 4.08434103e+00\n",
            " 4.10247348e+00 4.12064610e+00 4.13885888e+00 4.15711182e+00\n",
            " 4.17540492e+00 4.19373818e+00 4.21211160e+00 4.23052518e+00\n",
            " 4.24897892e+00 4.26747282e+00 4.28600688e+00 4.30458111e+00\n",
            " 4.32319549e+00 4.34185003e+00 4.36054474e+00 4.37927960e+00\n",
            " 4.39805463e+00 4.41686981e+00 4.43572516e+00 4.45462066e+00\n",
            " 4.47355633e+00 4.49253216e+00 4.51154815e+00 4.53060429e+00\n",
            " 4.54970060e+00 4.56883707e+00 4.58801370e+00 4.60723049e+00\n",
            " 4.62648744e+00 4.64578456e+00 4.66512183e+00 4.68449926e+00\n",
            " 4.70391685e+00 4.72337460e+00 4.74287252e+00 4.76241059e+00\n",
            " 4.78198883e+00 4.80160722e+00 4.82126578e+00 4.84096449e+00\n",
            " 4.86070337e+00 4.88048241e+00 4.90030161e+00 4.92016096e+00\n",
            " 4.94006048e+00 4.96000016e+00 4.97998000e+00 5.00000000e+00]\n",
            "(500,)\n"
          ]
        }
      ]
    },
    {
      "cell_type": "markdown",
      "metadata": {
        "id": "ivhBguGggNta"
      },
      "source": [
        "- Se grafican la señal original y la señal acondicionada mediante [subplot](https://matplotlib.org/stable/api/_as_gen/matplotlib.pyplot.subplot.html)"
      ]
    },
    {
      "cell_type": "code",
      "metadata": {
        "colab": {
          "base_uri": "https://localhost:8080/",
          "height": 465
        },
        "id": "NasBtR71LtRO",
        "outputId": "d1f85557-d3f7-49b9-a67f-ef156a44aaab"
      },
      "source": [
        "plt.subplot(121) # 1 = #filas, 2 = #columnas, 1 = # dibujo\n",
        "plt.plot(tv,xv,'r.')\n",
        "plt.xlabel('tiempo [s]')\n",
        "plt.ylabel('$x[t_k]$')\n",
        "\n",
        "plt.subplot(122)\n",
        "plt.plot(tv,yv,'b.')\n",
        "plt.xlabel('tiempo [s]')\n",
        "plt.ylabel('$y[t_k]$')\n",
        "plt.subplots_adjust(hspace=0.5,wspace=0.5) #ajustar espaciado entre gráficas\n",
        "plt.show()"
      ],
      "execution_count": null,
      "outputs": [
        {
          "output_type": "display_data",
          "data": {
            "text/plain": [
              "<Figure size 640x480 with 2 Axes>"
            ],
            "image/png": "[encoded data removed]"
          },
          "metadata": {}
        }
      ]
    },
    {
      "cell_type": "code",
      "metadata": {
        "colab": {
          "base_uri": "https://localhost:8080/",
          "height": 482
        },
        "id": "Bjy3fBQYQHAH",
        "outputId": "4b80c0cf-beb0-4c29-8c77-48997d562f80"
      },
      "source": [
        "plt.plot(tv,xv,'r.')\n",
        "plt.xlabel('tiempo [s]')\n",
        "plt.ylabel('$x[t_k]$')"
      ],
      "execution_count": null,
      "outputs": [
        {
          "output_type": "execute_result",
          "data": {
            "text/plain": [
              "Text(0, 0.5, '$x[t_k]$')"
            ]
          },
          "metadata": {},
          "execution_count": 93
        },
        {
          "output_type": "display_data",
          "data": {
            "text/plain": [
              "<Figure size 640x480 with 1 Axes>"
            ],
            "image/png": "[encoded data removed]"
          },
          "metadata": {}
        }
      ]
    },
    {
      "cell_type": "code",
      "metadata": {
        "id": "XrYen-2PSNEm",
        "colab": {
          "base_uri": "https://localhost:8080/",
          "height": 466
        },
        "outputId": "0e081ddb-f886-41c5-c764-97f19eb7fd67"
      },
      "source": [
        "plt.plot(tv,yv,'b.')\n",
        "plt.xlabel('tiempo [s]')\n",
        "plt.ylabel('$y[t_k]$')"
      ],
      "execution_count": null,
      "outputs": [
        {
          "output_type": "execute_result",
          "data": {
            "text/plain": [
              "Text(0, 0.5, '$y[t_k]$')"
            ]
          },
          "metadata": {},
          "execution_count": 94
        },
        {
          "output_type": "display_data",
          "data": {
            "text/plain": [
              "<Figure size 640x480 with 1 Axes>"
            ],
            "image/png": "[encoded data removed]"
          },
          "metadata": {}
        }
      ]
    },
    {
      "cell_type": "markdown",
      "metadata": {
        "id": "W7BApRWrUP7S"
      },
      "source": [
        "- Se ilustra nuevamente el proceso de acondicionamiento cero y pendiente utilizando una función seno:\n",
        "\n",
        "$$x[t_k] = A \\sin[w_o t + \\phi]$$\n",
        "\n",
        "$$x[t_k] = A \\sin[2 \\pi F_o t] = A \\sin[2 \\pi t / T_o ]$$\n",
        "\n"
      ]
    },
    {
      "cell_type": "code",
      "metadata": {
        "id": "PkSh1s79SPfY",
        "colab": {
          "base_uri": "https://localhost:8080/",
          "height": 449
        },
        "outputId": "6c4b232d-b893-4020-a91d-0af3cc345471"
      },
      "source": [
        "K = 50 # número de muestras\n",
        "T_o = 1/60 # periodo función sin\n",
        "A = 120 # amplitud\n",
        "ti = 0 #tiempo inicial\n",
        "tf = T_o #tiempo final\n",
        "tv = np.linspace(ti,tf,num=K) #vector de datos en tiempo\n",
        "xv = A * np.sin(2*np.pi*tv/T_o) #vector de amplitud\n",
        "\n",
        "plt.plot(tv,xv)\n",
        "plt.xlabel('tiempo [s]')\n",
        "plt.ylabel('$A\\sin[\\omega t_k]$')\n",
        "plt.show()"
      ],
      "execution_count": null,
      "outputs": [
        {
          "output_type": "display_data",
          "data": {
            "text/plain": [
              "<Figure size 640x480 with 1 Axes>"
            ],
            "image/png": "[encoded data removed]"
          },
          "metadata": {}
        }
      ]
    },
    {
      "cell_type": "code",
      "metadata": {
        "id": "aOjjW9cqU1AO"
      },
      "source": [
        "yv = my_ceropen(xv,ymin=0,ymax=5) #se utiliza la función ya creada de cero y pendiente"
      ],
      "execution_count": null,
      "outputs": []
    },
    {
      "cell_type": "code",
      "metadata": {
        "id": "pXcD2X2RVvOZ",
        "colab": {
          "base_uri": "https://localhost:8080/",
          "height": 449
        },
        "outputId": "8d3ce6c6-579c-4394-fdd3-52f6f25ad19a"
      },
      "source": [
        "plt.subplot(121) # 1 = #filas, 2 = #columnas, 1 = # dibujo\n",
        "plt.plot(tv,xv,'r.')\n",
        "plt.xlabel('tiempo [s]')\n",
        "plt.ylabel('$x[t_k]$')\n",
        "\n",
        "plt.subplot(122)\n",
        "plt.plot(tv,yv,'b.')\n",
        "plt.xlabel('tiempo [s]')\n",
        "plt.ylabel('$y[t_k]$')\n",
        "plt.subplots_adjust(hspace=0.5,wspace=0.5)\n",
        "plt.show()"
      ],
      "execution_count": null,
      "outputs": [
        {
          "output_type": "display_data",
          "data": {
            "text/plain": [
              "<Figure size 640x480 with 2 Axes>"
            ],
            "image/png": "[encoded data removed]"
          },
          "metadata": {}
        }
      ]
    },
    {
      "cell_type": "markdown",
      "metadata": {
        "id": "FIwsqyUVhBfk"
      },
      "source": [
        "# Ejercicio:\n",
        "\n",
        "- Después de acondicionar las señales ilustradas en el presente cuaderno, simule un proceso de discretización con $F_s \\geq 2 F_o.$ Dibuje el resultado de la señal discretizada utilizando la función [stem](https://matplotlib.org/3.1.1/api/_as_gen/matplotlib.pyplot.stem.html).\n",
        "\n",
        "- Consultar el funcionamiento de los métodos [cdist](https://docs.scipy.org/doc/scipy/reference/generated/scipy.spatial.distance.cdist.html) y [argmin](https://numpy.org/doc/stable/reference/generated/numpy.argmin.html).\n",
        "\n",
        "- Realice una función mediante el ambiente def que permita realizar los procesos de discretización y cuantización (usando cdist y argmin) en cascada para un conversor análogo-digital de 3 bits con entrada análoga de 0 a 10 [v]. Presente las gráficas de la señal original, señal con cero y pendiente, señal discretizada, y señal digital."
      ]
    },
    {
      "cell_type": "code",
      "source": [
        "import matplotlib.pyplot as plt\n",
        "plt.stem(tv,yv)"
      ],
      "metadata": {
        "id": "8km4dVS5vgZu",
        "outputId": "4c33e49e-e259-4565-fc6d-57743e5daa64",
        "colab": {
          "base_uri": "https://localhost:8080/",
          "height": 447
        }
      },
      "execution_count": null,
      "outputs": [
        {
          "output_type": "execute_result",
          "data": {
            "text/plain": [
              "<StemContainer object of 3 artists>"
            ]
          },
          "metadata": {},
          "execution_count": 98
        },
        {
          "output_type": "display_data",
          "data": {
            "text/plain": [
              "<Figure size 640x480 with 1 Axes>"
            ],
            "image/png": "[encoded data removed]"
          },
          "metadata": {}
        }
      ]
    },
    {
      "cell_type": "code",
      "source": [
        "from scipy.spatial.distance import cdist\n",
        "d = cdist(tv.reshape(-1,1),yv.reshape(-1,1))\n",
        "distance.cdist(tv,yv,'euclidean')"
      ],
      "metadata": {
        "id": "Geq82RaWxhEQ"
      },
      "execution_count": null,
      "outputs": []
    },
    {
      "cell_type": "markdown",
      "metadata": {
        "id": "vvEVi-HfW2Ar"
      },
      "source": [
        "**Ayuda para el ejercicio**: a continuación se presenta el funcionamiento de las funciones cdist y argmin"
      ]
    },
    {
      "cell_type": "code",
      "metadata": {
        "id": "mIdCdgAyV0KV",
        "colab": {
          "base_uri": "https://localhost:8080/"
        },
        "outputId": "ff56b917-fb59-4d18-e233-c8b7555d6469"
      },
      "source": [
        "#Ejemplo de señal despues de cero y pendiente y discretización\n",
        "#Recuerde que el proceso de discretización debe ser implementado\n",
        "from scipy.spatial.distance import cdist\n",
        "\n",
        "y = 10*np.sin(2*np.pi*60*tv)\n",
        "#número de bits\n",
        "nbits = 3\n",
        "rmin = 0\n",
        "rmax = 5\n",
        "ve = np.linspace(rmin,rmax,2**nbits) # (rmax-rmin)/(2^#bits - 1) -> si se quiere incluir rmin y rmax\n",
        "d = cdist(y.reshape(-1,1),ve.reshape(-1,1)) #se utiliza reshape(-1,1) para generar vectores columna como lo pide cdist\n",
        "d.shape # d es una matriz de 500 x 8, ej: la fila 1 incluye la distancia euclidea entre y[0] y los 8 elementos en ve"
      ],
      "execution_count": null,
      "outputs": [
        {
          "output_type": "execute_result",
          "data": {
            "text/plain": [
              "(500, 8)"
            ]
          },
          "metadata": {},
          "execution_count": 29
        }
      ]
    },
    {
      "cell_type": "code",
      "metadata": {
        "id": "NQ0G1xgxXU7s",
        "colab": {
          "base_uri": "https://localhost:8080/"
        },
        "outputId": "8917fb5a-7273-4876-b712-eae3e2308483"
      },
      "source": [
        "#se requiere identificar el elemento ve[j] más cercano a y[i] para genera señal cuantizada\n",
        "ind = np.argmin(d,axis=1) #el parámetro axis = 1 indica que busca la posición a lo largo de las columnas del elemento más pequeño en cada fila\n",
        "ind"
      ],
      "execution_count": null,
      "outputs": [
        {
          "output_type": "execute_result",
          "data": {
            "text/plain": [
              "array([0, 0, 0, 0, 0, 0, 0, 0, 0, 0, 0, 0, 0, 0, 0, 0, 0, 0, 0, 0, 0, 0,\n",
              "       0, 0, 0, 0, 0, 0, 0, 0, 1, 1, 1, 1, 1, 1, 1, 1, 1, 1, 1, 1, 1, 1,\n",
              "       1, 1, 1, 1, 1, 1, 1, 1, 1, 1, 1, 1, 1, 1, 1, 1, 1, 1, 1, 1, 1, 1,\n",
              "       1, 1, 1, 1, 1, 1, 1, 1, 1, 1, 1, 1, 1, 1, 1, 1, 1, 1, 1, 1, 1, 1,\n",
              "       1, 1, 1, 1, 1, 1, 1, 1, 1, 1, 1, 1, 1, 1, 1, 1, 1, 1, 1, 1, 1, 1,\n",
              "       1, 1, 1, 1, 1, 1, 1, 1, 1, 1, 1, 1, 1, 1, 1, 1, 1, 1, 1, 1, 1, 1,\n",
              "       1, 1, 1, 1, 1, 1, 1, 1, 1, 1, 1, 1, 1, 1, 1, 1, 1, 1, 1, 1, 1, 1,\n",
              "       1, 1, 1, 1, 1, 1, 1, 1, 1, 1, 1, 1, 1, 1, 1, 1, 1, 1, 1, 1, 1, 1,\n",
              "       1, 1, 1, 1, 1, 1, 1, 1, 1, 1, 1, 1, 1, 1, 1, 1, 1, 1, 1, 1, 1, 1,\n",
              "       1, 1, 1, 1, 1, 1, 1, 1, 1, 1, 1, 1, 1, 1, 1, 1, 1, 1, 1, 1, 1, 1,\n",
              "       1, 0, 0, 0, 0, 0, 0, 0, 0, 0, 0, 0, 0, 0, 0, 0, 0, 0, 0, 0, 0, 0,\n",
              "       0, 0, 0, 0, 0, 0, 0, 0, 0, 0, 0, 0, 0, 0, 0, 0, 0, 0, 0, 0, 0, 0,\n",
              "       0, 0, 0, 0, 0, 0, 0, 0, 0, 0, 0, 0, 0, 0, 0, 0, 0, 0, 0, 0, 0, 0,\n",
              "       0, 0, 0, 0, 0, 0, 0, 0, 0, 0, 0, 0, 0, 0, 0, 0, 0, 0, 0, 0, 0, 0,\n",
              "       0, 0, 0, 0, 0, 0, 0, 0, 0, 0, 0, 0, 0, 0, 0, 0, 0, 0, 0, 0, 0, 0,\n",
              "       0, 0, 0, 0, 0, 0, 0, 0, 0, 0, 0, 0, 0, 0, 0, 0, 0, 0, 0, 0, 0, 0,\n",
              "       0, 0, 0, 0, 0, 0, 0, 0, 0, 0, 0, 0, 0, 0, 0, 0, 0, 0, 0, 0, 0, 0,\n",
              "       0, 0, 0, 0, 0, 0, 0, 0, 0, 0, 0, 0, 0, 0, 0, 0, 0, 0, 0, 0, 0, 0,\n",
              "       0, 0, 0, 0, 0, 0, 0, 0, 0, 0, 0, 0, 0, 0, 0, 0, 0, 0, 0, 0, 0, 0,\n",
              "       0, 0, 0, 0, 0, 0, 0, 0, 0, 0, 0, 0, 0, 0, 0, 0, 0, 0, 0, 0, 0, 0,\n",
              "       0, 0, 0, 0, 0, 0, 0, 0, 0, 0, 0, 0, 0, 0, 0, 0, 0, 0, 0, 0, 0, 0,\n",
              "       0, 0, 0, 0, 0, 0, 0, 0, 0, 0, 0, 0, 0, 0, 0, 0, 0, 0, 0, 0, 0, 0,\n",
              "       0, 0, 0, 0, 0, 0, 0, 0, 0, 0, 0, 0, 0, 0, 0, 0])"
            ]
          },
          "metadata": {},
          "execution_count": 30
        }
      ]
    },
    {
      "cell_type": "code",
      "metadata": {
        "id": "tg14ZzF4X1WM",
        "colab": {
          "base_uri": "https://localhost:8080/"
        },
        "outputId": "84c6cc6c-e91d-4dd8-df30-43db2b783376"
      },
      "source": [
        "print(y[50],ind[50],ve) # para y[50] = 0.58, el estado más cercano en ve es el elemento 1 que corresponde a ve[1]=0.71"
      ],
      "execution_count": null,
      "outputs": [
        {
          "output_type": "stream",
          "name": "stdout",
          "text": [
            "0.5888034641594024 1 [0.         0.71428571 1.42857143 2.14285714 2.85714286 3.57142857\n",
            " 4.28571429 5.        ]\n"
          ]
        }
      ]
    },
    {
      "cell_type": "code",
      "metadata": {
        "id": "7vKtTlR0Q6dd"
      },
      "source": [],
      "execution_count": null,
      "outputs": []
    }
  ]
}