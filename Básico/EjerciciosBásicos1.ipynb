{
  "nbformat": 4,
  "nbformat_minor": 0,
  "metadata": {
    "colab": {
      "provenance": [],
      "authorship_tag": "ABX9TyMgpj1b2Rdez3tUWcqUid1i",
      "include_colab_link": true
    },
    "kernelspec": {
      "name": "python3",
      "display_name": "Python 3"
    },
    "language_info": {
      "name": "python"
    }
  },
  "cells": [
    {
      "cell_type": "markdown",
      "metadata": {
        "id": "view-in-github",
        "colab_type": "text"
      },
      "source": [
        "<a href=\"https://colab.research.google.com/github/Ferchisx/EjerciciosSyS/blob/Ejercicios/EjerciciosB%C3%A1sicos1.ipynb\" target=\"_parent\"><img src=\"https://colab.research.google.com/assets/colab-badge.svg\" alt=\"Open In Colab\"/></a>"
      ]
    },
    {
      "cell_type": "markdown",
      "source": [
        "Ejercicio 1"
      ],
      "metadata": {
        "id": "ZzP8RZJK7J9e"
      }
    },
    {
      "cell_type": "code",
      "execution_count": null,
      "metadata": {
        "colab": {
          "base_uri": "https://localhost:8080/"
        },
        "id": "5WRm7KVF53cf",
        "outputId": "64805aa0-ea12-4917-a218-dbd5f9fddfd0"
      },
      "outputs": [
        {
          "output_type": "execute_result",
          "data": {
            "text/plain": [
              "4"
            ]
          },
          "metadata": {},
          "execution_count": 14
        }
      ],
      "source": [
        "X = (((3+2)/2.5)**2)\n",
        "X2 = int(X)\n",
        "X2"
      ]
    },
    {
      "cell_type": "markdown",
      "source": [
        "Ejercicio 2"
      ],
      "metadata": {
        "id": "JM9Cw1Mi7MwV"
      }
    },
    {
      "cell_type": "code",
      "source": [
        "x = input(\"Ingrese sus horas trabajadas: \")\n",
        "y = input(\"Ingrese el pago por horas: \")\n",
        "X = int(x)\n",
        "Y = int(y)\n",
        "Z = X*Y\n",
        "print(\"Su pago es:\",Z)"
      ],
      "metadata": {
        "colab": {
          "base_uri": "https://localhost:8080/"
        },
        "id": "9F1ra28H7Itw",
        "outputId": "df768c6f-b81a-419a-a89c-ed5b2c17ebd3"
      },
      "execution_count": null,
      "outputs": [
        {
          "output_type": "stream",
          "name": "stdout",
          "text": [
            "Ingrese sus horas trabajadas: 5\n",
            "Ingrese el pago por horas: 40000\n",
            "Su pago es: 200000\n"
          ]
        }
      ]
    },
    {
      "cell_type": "markdown",
      "source": [
        "Ejercicio 3"
      ],
      "metadata": {
        "id": "IKpFHsKz9KBk"
      }
    },
    {
      "cell_type": "code",
      "source": [
        "P = input(\"Ingrese su peso en Kilogramos:\")\n",
        "A = input(\"ingrese su altura en metros:\")\n",
        "P1 = float(P)\n",
        "A1 = float(A)\n",
        "BMI = (P1/(A1**2))\n",
        "BMI2 = round(BMI,2)\n",
        "print(\"Tu indice de masa corporal es:\",BMI2)"
      ],
      "metadata": {
        "colab": {
          "base_uri": "https://localhost:8080/"
        },
        "id": "I_-H0bO29LuM",
        "outputId": "04f785bd-3923-4613-b9ae-c462a2dbdc89"
      },
      "execution_count": null,
      "outputs": [
        {
          "output_type": "stream",
          "name": "stdout",
          "text": [
            "Ingrese su peso en Kilogramos:55\n",
            "ingrese su altura en metros:1.7\n",
            "Tu indice de masa corporal es: 19.03\n"
          ]
        }
      ]
    }
  ]
}
