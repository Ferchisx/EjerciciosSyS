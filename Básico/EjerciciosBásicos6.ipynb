{
  "nbformat": 4,
  "nbformat_minor": 0,
  "metadata": {
    "colab": {
      "provenance": [],
      "authorship_tag": "ABX9TyNHf/7OZj8PkyTCxpFG+zQ9",
      "include_colab_link": true
    },
    "kernelspec": {
      "name": "python3",
      "display_name": "Python 3"
    },
    "language_info": {
      "name": "python"
    }
  },
  "cells": [
    {
      "cell_type": "markdown",
      "metadata": {
        "id": "view-in-github",
        "colab_type": "text"
      },
      "source": [
        "<a href=\"https://colab.research.google.com/github/Ferchisx/EjerciciosSyS/blob/Ejercicios/B%C3%A1sico/EjerciciosB%C3%A1sicos6.ipynb\" target=\"_parent\"><img src=\"https://colab.research.google.com/assets/colab-badge.svg\" alt=\"Open In Colab\"/></a>"
      ]
    },
    {
      "cell_type": "markdown",
      "source": [
        "EJERCICIO 1"
      ],
      "metadata": {
        "id": "yeSMsDx4G0vA"
      }
    },
    {
      "cell_type": "code",
      "execution_count": 22,
      "metadata": {
        "id": "r9k8C4rLGubO",
        "colab": {
          "base_uri": "https://localhost:8080/"
        },
        "outputId": "f1d2a6a0-bf2e-4913-8012-145f27bdcf11"
      },
      "outputs": [
        {
          "output_type": "stream",
          "name": "stdout",
          "text": [
            "Ingrese la cantidad de datos en la lista: 4\n",
            "Ingrese los datos de la lista: \n",
            "3\n",
            "2\n",
            "5\n",
            "8\n",
            "La suma de los números impares es:  8\n"
          ]
        }
      ],
      "source": [
        "def suma(lista):\n",
        "  acum=0\n",
        "  for i in range(0,t):\n",
        "    if int(lista[i])%2 != 0:\n",
        "      acum=acum+int(lista[i])\n",
        "  return acum\n",
        "\n",
        "lista = []\n",
        "t = int(input(\"Ingrese la cantidad de datos en la lista: \"))\n",
        "print(\"Ingrese los datos de la lista: \")\n",
        "for i in range(0,t):\n",
        "  x = input()\n",
        "  lista.append(x)\n",
        "\n",
        "R = suma(lista)\n",
        "print(\"La suma de los números impares es: \",R)"
      ]
    },
    {
      "cell_type": "markdown",
      "source": [
        "EJERCICIO 2"
      ],
      "metadata": {
        "id": "__IHxp6_UBhv"
      }
    },
    {
      "cell_type": "code",
      "source": [
        "def dic(lista):\n",
        "  dic = {}\n",
        "  for palabra in lista:\n",
        "    if palabra in dic:\n",
        "      dic[palabra] += 1\n",
        "    else:\n",
        "      dic[palabra] = 1\n",
        "  return dic\n",
        "\n",
        "lista = ['casa', 'perro', 'loco', 'casa', 'arbol', 'casa', 'perro']\n",
        "diccionario = dic(lista)\n",
        "print(\"El diccionario se ve así: \",diccionario)"
      ],
      "metadata": {
        "id": "hrOAAeXHUEPx",
        "colab": {
          "base_uri": "https://localhost:8080/"
        },
        "outputId": "aa4cf511-71d0-4621-d12f-cc35b8b8793a"
      },
      "execution_count": 21,
      "outputs": [
        {
          "output_type": "stream",
          "name": "stdout",
          "text": [
            "El diccionario se ve así:  {'casa': 3, 'perro': 2, 'loco': 1, 'arbol': 1}\n"
          ]
        }
      ]
    }
  ]
}