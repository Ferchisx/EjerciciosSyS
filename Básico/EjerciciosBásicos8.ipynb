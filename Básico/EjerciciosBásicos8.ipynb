{
  "nbformat": 4,
  "nbformat_minor": 0,
  "metadata": {
    "colab": {
      "provenance": [],
      "authorship_tag": "ABX9TyObUfksTaQkVYZO07dA8Mhh",
      "include_colab_link": true
    },
    "kernelspec": {
      "name": "python3",
      "display_name": "Python 3"
    },
    "language_info": {
      "name": "python"
    }
  },
  "cells": [
    {
      "cell_type": "markdown",
      "metadata": {
        "id": "view-in-github",
        "colab_type": "text"
      },
      "source": [
        "<a href=\"https://colab.research.google.com/github/Ferchisx/EjerciciosSyS/blob/Ejercicios/B%C3%A1sico/EjerciciosB%C3%A1sicos8.ipynb\" target=\"_parent\"><img src=\"https://colab.research.google.com/assets/colab-badge.svg\" alt=\"Open In Colab\"/></a>"
      ]
    },
    {
      "cell_type": "markdown",
      "source": [
        "EJERCICIO 1"
      ],
      "metadata": {
        "id": "fox4ULf_6-2O"
      }
    },
    {
      "cell_type": "code",
      "source": [
        "import numpy as np\n",
        "class FiguraGeometrica:\n",
        "  def calcularArea(self):\n",
        "    pass\n",
        "\n",
        "class Circulo:\n",
        "  def __init__(self,radio):\n",
        "    self.radio=radio\n",
        "  def calcularArea(self):\n",
        "    return (np.pi*(self.radio**2))\n",
        "\n",
        "class Triangulo:\n",
        "  def __init__(self,base,altura):\n",
        "    self.base=base\n",
        "    self.altura=altura\n",
        "  def calcularArea(self):\n",
        "    return (self.base*self.altura)/2\n",
        "\n",
        "class Rectángulo:\n",
        "  def __init__(self,base,altura):\n",
        "    self.base=base\n",
        "    self.altura=altura\n",
        "  def calcularArea(self):\n",
        "    return (self.base*self.altura)\n",
        "\n",
        "circulo=Circulo(3)\n",
        "triangulo=Triangulo(3,4)\n",
        "rectangulo=Rectángulo(4,3)\n",
        "\n",
        "print(\"Area del circulo:\",circulo.calcularArea())\n",
        "print(\"Area del trianguo:\",triangulo.calcularArea())\n",
        "print(\"Area del rectangulo:\",rectangulo.calcularArea())"
      ],
      "metadata": {
        "colab": {
          "base_uri": "https://localhost:8080/"
        },
        "id": "jpVATuoKEG8G",
        "outputId": "07fdf178-e5c8-4373-a19c-c4f5f4d4ca24"
      },
      "execution_count": 63,
      "outputs": [
        {
          "output_type": "stream",
          "name": "stdout",
          "text": [
            "Area del circulo: 28.274333882308138\n",
            "Area del trianguo: 6.0\n",
            "Area del rectangulo: 12\n"
          ]
        }
      ]
    },
    {
      "cell_type": "markdown",
      "source": [
        "EJERCICIO 2"
      ],
      "metadata": {
        "id": "3bOabRzq7Apv"
      }
    },
    {
      "cell_type": "code",
      "source": [
        "class Vuelo:\n",
        "  def __init__(self,NV,O,D,CMP,AO):\n",
        "    self.NV=NV\n",
        "    self.O=O\n",
        "    self.D=D\n",
        "    self.CMP=CMP\n",
        "    self.AO=AO\n",
        "    self.AD=(self.CMP-AO)\n",
        "  def info(self):\n",
        "    print(\"La información de su vuelo es:\")\n",
        "    print(\"Vuelo número:\",self.NV)\n",
        "    print(\"Origen:\",self.O)\n",
        "    print(\"Destino:\",self.D)\n",
        "    print(\"Capacidad Máxima:\",self.CMP)\n",
        "  def espacio(self):\n",
        "    print(\"Hay\",self.AD,\"asientos disponibles\")\n",
        "  def reserva(self):\n",
        "    if self.AD>0:\n",
        "      print(\"Bienvenido, cuantos asientos desea reservar?\")\n",
        "      x=int(input())\n",
        "      self.AD=(self.CMP-self.AO-x)\n",
        "\n",
        "v1=Vuelo(45,\"Canada\",\"Colombia\",200,135)\n",
        "v2=Vuelo(53,\"Colombia\",\"España\",150,133)\n",
        "v1.info()\n",
        "v1.espacio()\n",
        "v1.reserva()\n"
      ],
      "metadata": {
        "colab": {
          "base_uri": "https://localhost:8080/"
        },
        "id": "IYDMkzu0Gj2C",
        "outputId": "34863930-5e9f-4e13-8dfb-75a639616c30"
      },
      "execution_count": 64,
      "outputs": [
        {
          "name": "stdout",
          "output_type": "stream",
          "text": [
            "La información de su vuelo es:\n",
            "Vuelo número: 45\n",
            "Origen: Canada\n",
            "Destino: Colombia\n",
            "Capacidad Máxima: 200\n",
            "Hay 65 asientos disponibles\n",
            "Bienvenido, cuantos asientos desea reservar?\n",
            "5\n"
          ]
        }
      ]
    },
    {
      "cell_type": "code",
      "source": [
        "class VueloEconomico(Vuelo):\n",
        "  def __init__(self,NV,O,D,CMP,AO,Tarifa):\n",
        "    super().__init__(NV,O,D,CMP,AO)\n",
        "    self.AD=(self.CMP-self.AO)\n",
        "    self.Tarifa=Tarifa\n",
        "  def reserva(self):\n",
        "    if self.AD>0:\n",
        "      print(\"Bienvenido, cuantos asientos desea reservar?\")\n",
        "      x=int(input())\n",
        "      self.AD=(self.CMP-self.AO-x)\n",
        "      T=self.Tarifa*x\n",
        "      print(\"Reservaste\",x,\"asientos por un costo de\",T)\n",
        "\n",
        "v3=VueloEconomico(15,\"Madrid\",\"Bogotá\",40,32,230000)\n",
        "v4=VueloEconomico(23,\"Japón\",\"Malasia\",100,85,150000)\n",
        "v3.info()\n",
        "v4.reserva()\n",
        "v4.info()"
      ],
      "metadata": {
        "id": "6fImQO60Rleq"
      },
      "execution_count": null,
      "outputs": []
    }
  ]
}