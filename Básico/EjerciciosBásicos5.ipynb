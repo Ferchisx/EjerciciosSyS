{
  "nbformat": 4,
  "nbformat_minor": 0,
  "metadata": {
    "colab": {
      "provenance": [],
      "authorship_tag": "ABX9TyMcGNOTkSzsVc3vRKMphe7N",
      "include_colab_link": true
    },
    "kernelspec": {
      "name": "python3",
      "display_name": "Python 3"
    },
    "language_info": {
      "name": "python"
    }
  },
  "cells": [
    {
      "cell_type": "markdown",
      "metadata": {
        "id": "view-in-github",
        "colab_type": "text"
      },
      "source": [
        "<a href=\"https://colab.research.google.com/github/Ferchisx/EjerciciosSyS/blob/Ejercicios/EjerciciosB%C3%A1sicos5.ipynb\" target=\"_parent\"><img src=\"https://colab.research.google.com/assets/colab-badge.svg\" alt=\"Open In Colab\"/></a>"
      ]
    },
    {
      "cell_type": "code",
      "source": [
        "import numpy as np"
      ],
      "metadata": {
        "id": "zvNbkgur_OxI"
      },
      "execution_count": 9,
      "outputs": []
    },
    {
      "cell_type": "markdown",
      "source": [
        "EJERCICIO 1"
      ],
      "metadata": {
        "id": "29Z2W9d_8uNi"
      }
    },
    {
      "cell_type": "code",
      "source": [
        "def TRI(s1,s2,s3):\n",
        "  s = (s1+s2+s3)/2\n",
        "  A = np.sqrt(s*(s-s1)*(s-s2)*(s-s3))\n",
        "  return A\n",
        "\n",
        "s1 = int(input(\"Ingrese el lado 1: \"))\n",
        "s2 = int(input(\"Ingrese el lado 2: \"))\n",
        "s3 = int(input(\"Ingrese el lado 3: \"))\n",
        "\n",
        "A = TRI(s1,s2,s3)\n",
        "print(\"El área redondeada del triángulo es: \",round(A,1))"
      ],
      "metadata": {
        "id": "oJ7JBaZTn_AG",
        "colab": {
          "base_uri": "https://localhost:8080/"
        },
        "outputId": "44033688-5dc1-40da-fbb1-3a72bfdba02f"
      },
      "execution_count": 10,
      "outputs": [
        {
          "output_type": "stream",
          "name": "stdout",
          "text": [
            "Ingrese el lado 1: 4\n",
            "Ingrese el lado 2: 5\n",
            "Ingrese el lado 3: 6\n",
            "El área redondeada del triángulo es:  9.9\n"
          ]
        }
      ]
    },
    {
      "cell_type": "markdown",
      "source": [
        "EJERCICIO 2"
      ],
      "metadata": {
        "id": "723_SZ4Q_EQx"
      }
    },
    {
      "cell_type": "code",
      "source": [
        "def BMI(W,H):\n",
        "  Wkg = W*0.45\n",
        "  Hm = H*0.025\n",
        "  BMI = Wkg/(Hm**2)\n",
        "  return BMI\n",
        "\n",
        "W = float(input(\"Ingrese su peso en Libras(Peso en kg / 0.45)): \"))\n",
        "H = float(input(\"Ingrese su estatura en Pulgadas(Estatura en m / 0.025)): \"))\n",
        "\n",
        "BMI = BMI(W,H)\n",
        "print(\"Su índice de masa corporal es: \",round(BMI,2), \"kg/m2\")"
      ],
      "metadata": {
        "colab": {
          "base_uri": "https://localhost:8080/"
        },
        "id": "T7uqtQSQ_Gdp",
        "outputId": "e118bcb8-2979-4b53-eaa6-651f4b831682"
      },
      "execution_count": 19,
      "outputs": [
        {
          "output_type": "stream",
          "name": "stdout",
          "text": [
            "Ingrese su peso en Libras(Peso en kg / 0.45)): 133.33\n",
            "Ingrese su estatura en Pulgadas(Estatura en m / 0.025)): 68\n",
            "Su índice de masa corporal es:  20.76 kg/m2\n"
          ]
        }
      ]
    }
  ]
}
