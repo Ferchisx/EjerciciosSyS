{
  "nbformat": 4,
  "nbformat_minor": 0,
  "metadata": {
    "colab": {
      "provenance": [],
      "authorship_tag": "ABX9TyPyaENHbDHrxEzn8YYN0xHo",
      "include_colab_link": true
    },
    "kernelspec": {
      "name": "python3",
      "display_name": "Python 3"
    },
    "language_info": {
      "name": "python"
    }
  },
  "cells": [
    {
      "cell_type": "markdown",
      "metadata": {
        "id": "view-in-github",
        "colab_type": "text"
      },
      "source": [
        "<a href=\"https://colab.research.google.com/github/Ferchisx/EjerciciosSyS/blob/main/EjerciciosSyS2.ipynb\" target=\"_parent\"><img src=\"https://colab.research.google.com/assets/colab-badge.svg\" alt=\"Open In Colab\"/></a>"
      ]
    },
    {
      "cell_type": "markdown",
      "source": [
        "Ejercicio 1"
      ],
      "metadata": {
        "id": "_xrackwpBE4p"
      }
    },
    {
      "cell_type": "code",
      "execution_count": null,
      "metadata": {
        "colab": {
          "base_uri": "https://localhost:8080/"
        },
        "id": "NhOVS10bA-eW",
        "outputId": "b7ee6f38-151e-4495-ca8d-42ca23b60d75"
      },
      "outputs": [
        {
          "output_type": "stream",
          "name": "stdout",
          "text": [
            "Cuantos años tienes?:18\n",
            "Cuanto ganas al mes?:1000\n",
            "Debes pagar el impuesto\n"
          ]
        }
      ],
      "source": [
        "age = input(\"Cuantos años tienes?:\")\n",
        "income = input(\"Cuanto ganas al mes?:\") #se supone que en dolares\n",
        "x = int(age)\n",
        "y = int(income)\n",
        "if x>16 and y>=1000:\n",
        "  print(\"Debes pagar el impuesto\")\n",
        "else:\n",
        "  print(\"No debes pagar el impuesto\")"
      ]
    },
    {
      "cell_type": "markdown",
      "source": [
        "Ejercicio 2"
      ],
      "metadata": {
        "id": "AyLS1A3LBJHQ"
      }
    },
    {
      "cell_type": "code",
      "source": [
        "x = int(input(\"Desea pizza (1)Vegetariana o (2)NO vegetariana?\"))\n",
        "if x==1:\n",
        "  y=int(input(\"Desea sabor (1)Pimentones o (2)Tofu?\"))\n",
        "  if y==1:\n",
        "    print(\"Su orden es pizza vegetariana con mozzarella, tomate y pimentones\")\n",
        "  else:\n",
        "    print(\"Su orden es pizza vegetariana con mozzarella, tomate y tofu\")\n",
        "else:\n",
        "  y=int(input(\"Desea sabor (1)Pepperoni, (2)Jamon o (3)Salmon?\"))\n",
        "  if y==1:\n",
        "    print(\"Su orden es pizza no vegetariana con mozzarella, tomate y pepperoni\")\n",
        "  elif y==2:\n",
        "    print(\"Su orden es pizza no vegetariana con mozzarella, tomate y jamon\")\n",
        "  else:\n",
        "    print(\"Su orden es pizza no vegetariana con mozzarella, tomate y salmon\")"
      ],
      "metadata": {
        "colab": {
          "base_uri": "https://localhost:8080/"
        },
        "id": "Dy54upF5BKcg",
        "outputId": "73569e53-7ed4-4261-8a97-14c0aafa0690"
      },
      "execution_count": null,
      "outputs": [
        {
          "output_type": "stream",
          "name": "stdout",
          "text": [
            "Desea pizza (1)Vegetariana o (2)NO vegetariana?2\n",
            "Desea sabor (1)Pepperoni, (2)Jamon o (3)Salmon?2\n",
            "Su orden es pizza no vegetariana con mozzarella, tomate y jamon\n"
          ]
        }
      ]
    }
  ]
}
