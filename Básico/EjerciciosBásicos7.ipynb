{
  "nbformat": 4,
  "nbformat_minor": 0,
  "metadata": {
    "colab": {
      "provenance": [],
      "authorship_tag": "ABX9TyM9vW5wYULU836Qyin/iEk2",
      "include_colab_link": true
    },
    "kernelspec": {
      "name": "python3",
      "display_name": "Python 3"
    },
    "language_info": {
      "name": "python"
    }
  },
  "cells": [
    {
      "cell_type": "markdown",
      "metadata": {
        "id": "view-in-github",
        "colab_type": "text"
      },
      "source": [
        "<a href=\"https://colab.research.google.com/github/Ferchisx/EjerciciosSyS/blob/Ejercicios/B%C3%A1sico/EjerciciosB%C3%A1sicos7.ipynb\" target=\"_parent\"><img src=\"https://colab.research.google.com/assets/colab-badge.svg\" alt=\"Open In Colab\"/></a>"
      ]
    },
    {
      "cell_type": "markdown",
      "source": [
        "EJERCICIO 1"
      ],
      "metadata": {
        "id": "axH_WZe2cQ8L"
      }
    },
    {
      "cell_type": "code",
      "execution_count": 48,
      "metadata": {
        "colab": {
          "base_uri": "https://localhost:8080/"
        },
        "id": "9k3WhUlCcML1",
        "outputId": "983ef0d0-7a41-4be4-c517-4b3d00ca2435"
      },
      "outputs": [
        {
          "output_type": "stream",
          "name": "stdout",
          "text": [
            "Hola, mi nombre es Francisco, tengo 18 años y soy Hombre\n",
            "Hola, cómo estás?, un gusto, Maria\n"
          ]
        }
      ],
      "source": [
        "class Persona:\n",
        "  def __init__(self,nombre,edad,genero):\n",
        "    self.nombre=nombre\n",
        "    self.edad=edad\n",
        "    self.genero=genero\n",
        "\n",
        "  def Presentación(self):\n",
        "    print(f\"Hola, mi nombre es {self.nombre}, tengo {self.edad} años y soy {self.genero}\")\n",
        "\n",
        "  def Saludo(self):\n",
        "    print(f\"Hola, cómo estás?, un gusto, {self.nombre}\")\n",
        "\n",
        "P1 = Persona(\"Francisco\",18,\"Hombre\")\n",
        "P2 = Persona(\"Maria\",25,\"Mujer\")\n",
        "\n",
        "P1.Presentación()\n",
        "P2.Saludo()"
      ]
    },
    {
      "cell_type": "markdown",
      "source": [
        "EJERCICIO 2"
      ],
      "metadata": {
        "id": "3sdtBhV1kQss"
      }
    },
    {
      "cell_type": "code",
      "source": [
        "class Coche:\n",
        "  def __init__(self,marca,modelo,año,kil):\n",
        "    self.marca=marca\n",
        "    self.modelo=modelo\n",
        "    self.año=año\n",
        "    self.kil=kil\n",
        "\n",
        "  def Arranque(self):\n",
        "    print(\"El coche está acelerando\")\n",
        "  def Frenado(self):\n",
        "    print(\"El coche está frenando\")\n",
        "  def dirección(self,dirección):\n",
        "    print(\"El coche gira hacia la \"+dirección)\n",
        "\n",
        "c1 = Coche(\"Toyota\",\"Land Cruiser\",2014,2000)\n",
        "c2 = Coche(\"Chevrolet\",\"Tracker\",2015,1500)\n",
        "\n",
        "c1.Arranque()\n",
        "print(\"Kilometraje carro 1:\",c1.kil)\n",
        "print(\"Marca y modelo carro 2:\",c2.marca , c2.modelo)"
      ],
      "metadata": {
        "colab": {
          "base_uri": "https://localhost:8080/"
        },
        "id": "fFIsHMrYkSIn",
        "outputId": "11e8ffbf-f865-4651-f91b-d0e5193d8b29"
      },
      "execution_count": 49,
      "outputs": [
        {
          "output_type": "stream",
          "name": "stdout",
          "text": [
            "El coche está acelerando\n",
            "Kilometraje carro 1: 2000\n",
            "Marca y modelo carro 2: Chevrolet Tracker\n"
          ]
        }
      ]
    },
    {
      "cell_type": "markdown",
      "source": [
        "EJERCICIO 3"
      ],
      "metadata": {
        "id": "K5R4wXz4mu3L"
      }
    },
    {
      "cell_type": "code",
      "source": [
        "class Rect:\n",
        "  def __init__(self,longitud,ancho):\n",
        "    self.longitud=longitud\n",
        "    self.ancho=ancho\n",
        "\n",
        "  def area(self):\n",
        "    area=self.longitud*self.ancho\n",
        "    print(\"El area del rectangulo es:\",area)\n",
        "\n",
        "  def peri(self):\n",
        "    p=(2*self.longitud)+(2*self.ancho)\n",
        "    print(\"El perimetro del rectangulo es:\",p)\n",
        "\n",
        "r1=Rect(5,3)\n",
        "r2=Rect(7,2)\n",
        "\n",
        "r1.area()\n",
        "r2.peri()"
      ],
      "metadata": {
        "colab": {
          "base_uri": "https://localhost:8080/"
        },
        "id": "O39Z-g9X4b0k",
        "outputId": "cd4fd56f-caa9-4d77-ff38-53bf2b0cb57e"
      },
      "execution_count": 50,
      "outputs": [
        {
          "output_type": "stream",
          "name": "stdout",
          "text": [
            "El area del rectangulo es: 15\n",
            "El perimetro del rectangulo es: 18\n"
          ]
        }
      ]
    },
    {
      "cell_type": "markdown",
      "source": [
        "EJERCICIO 4"
      ],
      "metadata": {
        "id": "522U3Pco6G-8"
      }
    },
    {
      "cell_type": "code",
      "source": [
        "class Banco:\n",
        "  def __init__(self,nombre,direccion):\n",
        "    self.nombre=nombre\n",
        "    self.direccion=direccion\n",
        "\n",
        "  def apertura(self):\n",
        "    print(\"Desea abrir una cuenta? (1-Si):\")\n",
        "    x=int(input())\n",
        "    if x==1:\n",
        "      print(\"Qué número de cuenta desea?:\")\n",
        "      self.cuenta=int(input())\n",
        "      self.saldo=0\n",
        "      print(\"Su cuenta con numero \",b1.cuenta,\"en el banco\",b1.nombre, \"tiene un saldo de \",b1.saldo)\n",
        "    else:\n",
        "      print(\"Error en el ingreso\")\n",
        "\n",
        "  def ingreso(self):\n",
        "    print(\"Cuanto desea ingresar a la cuenta?\")\n",
        "    z=int(input())\n",
        "    if z!=0:\n",
        "      self.saldo+=z\n",
        "\n",
        "  def retiro(self):\n",
        "    print(\"Cuanto desea retirar de la cuenta?\")\n",
        "    w=int(input())\n",
        "    if w!=0:\n",
        "      self.saldo-=w\n",
        "\n",
        "  def revisar(self):\n",
        "    print(\"Su saldo actual es:\",b1.saldo)\n",
        "\n",
        "b1=Banco(\"Bancolombia\",\"Cable Plaza\")\n",
        "b1.apertura()\n",
        "b1.ingreso()\n",
        "b1.retiro()\n",
        "b1.revisar()"
      ],
      "metadata": {
        "colab": {
          "base_uri": "https://localhost:8080/"
        },
        "id": "TlL9Fjie6Irw",
        "outputId": "d3af4523-7896-453e-c08b-d88b8e1e4783"
      },
      "execution_count": 51,
      "outputs": [
        {
          "output_type": "stream",
          "name": "stdout",
          "text": [
            "Desea abrir una cuenta? (1-Si):\n",
            "1\n",
            "Qué número de cuenta desea?:\n",
            "5278\n",
            "Su cuenta con numero  5278 en el banco Bancolombia tiene un saldo de  0\n",
            "Cuanto desea ingresar a la cuenta?\n",
            "15000\n",
            "Cuanto desea retirar de la cuenta?\n",
            "4000\n",
            "Su saldo actual es: 11000\n"
          ]
        }
      ]
    },
    {
      "cell_type": "markdown",
      "source": [
        "EJERCICIO 5"
      ],
      "metadata": {
        "id": "ttfAvJIDuFBd"
      }
    },
    {
      "cell_type": "code",
      "source": [
        "class Estudiante:\n",
        "  def __init__(self,nombre,edad,promedio):\n",
        "    self.nombre=nombre\n",
        "    self.edad=edad\n",
        "    self.promedio=promedio\n",
        "\n",
        "  def estudiar(self):\n",
        "    print(\"Cuál es su método de estudio?\")\n",
        "    print(\"-Visual\")\n",
        "    print(\"-Auditivo\")\n",
        "    print(\"-Práctico\")\n",
        "    print(\"-Enseñando\")\n",
        "    self.estudio=input()\n",
        "\n",
        "  def tareas(self):\n",
        "    print(\"Cuántas horas en casa se dedican a las tareas?\")\n",
        "    self.tareas=int(input())\n",
        "\n",
        "e1=Estudiante(\"Pepe\",18,4.5)\n",
        "e2=Estudiante(\"Pacho\",22,3.7)\n",
        "\n",
        "e1.estudiar()\n",
        "e2.tareas()\n",
        "\n",
        "print(\"\",e1.nombre,\" tiene\",e1.edad,\" años y un promedio de\",e1.promedio,\". Su método de estudio es\",e1.estudio)\n",
        "print(\"\",e2.nombre,\" tiene\",e2.edad,\" años y un promedio de\",e2.promedio,\". Su método para hacer tareas es dedicarle\",e2.tareas,\"horas al día\")"
      ],
      "metadata": {
        "colab": {
          "base_uri": "https://localhost:8080/"
        },
        "id": "ysM9z0x-uGkt",
        "outputId": "17a1fcbf-e2f2-4719-a239-c6a40a0722e6"
      },
      "execution_count": 52,
      "outputs": [
        {
          "output_type": "stream",
          "name": "stdout",
          "text": [
            "Cuál es su método de estudio?\n",
            "-Visual\n",
            "-Auditivo\n",
            "-Práctico\n",
            "-Enseñando\n",
            "Práctico\n",
            "Cuántas horas en casa se dedican a las tareas?\n",
            "4\n",
            " Pepe  tiene 18  años y un promedio de 4.5 . Su método de estudio es Práctico\n",
            " Pacho  tiene 22  años y un promedio de 3.7 . Su método para hacer tareas es dedicarle 4 horas al día\n"
          ]
        }
      ]
    }
  ]
}