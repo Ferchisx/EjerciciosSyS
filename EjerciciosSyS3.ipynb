{
  "nbformat": 4,
  "nbformat_minor": 0,
  "metadata": {
    "colab": {
      "provenance": [],
      "authorship_tag": "ABX9TyM+aI/+i38T/F9qM6RPh/5g",
      "include_colab_link": true
    },
    "kernelspec": {
      "name": "python3",
      "display_name": "Python 3"
    },
    "language_info": {
      "name": "python"
    }
  },
  "cells": [
    {
      "cell_type": "markdown",
      "metadata": {
        "id": "view-in-github",
        "colab_type": "text"
      },
      "source": [
        "<a href=\"https://colab.research.google.com/github/Ferchisx/EjerciciosSyS/blob/main/EjerciciosSyS3.ipynb\" target=\"_parent\"><img src=\"https://colab.research.google.com/assets/colab-badge.svg\" alt=\"Open In Colab\"/></a>"
      ]
    },
    {
      "cell_type": "markdown",
      "source": [
        "Ejercicio 1"
      ],
      "metadata": {
        "id": "EwZOm-BcMQw7"
      }
    },
    {
      "cell_type": "code",
      "execution_count": 10,
      "metadata": {
        "colab": {
          "base_uri": "https://localhost:8080/"
        },
        "id": "b1Gpgt1FL6h9",
        "outputId": "72232a73-0ef9-4835-97fc-fdf87fd44c2c"
      },
      "outputs": [
        {
          "output_type": "stream",
          "name": "stdout",
          "text": [
            "Ingrese un numero entero, 0 para finalizar:5\n",
            "Ingrese un numero entero, 0 para finalizar:9\n",
            "Ingrese un numero entero, 0 para finalizar:7\n",
            "Ingrese un numero entero, 0 para finalizar:2\n",
            "Ingrese un numero entero, 0 para finalizar:0\n",
            "El total de numeros ingresados es: 4\n"
          ]
        }
      ],
      "source": [
        "x = int(input(\"Ingrese un numero entero, 0 para finalizar:\"))\n",
        "a = 0\n",
        "while x != 0:\n",
        "  x = int(input(\"Ingrese un numero entero, 0 para finalizar:\"))\n",
        "  a=a+1\n",
        "print(\"El total de numeros ingresados es:\",a)"
      ]
    },
    {
      "cell_type": "markdown",
      "source": [
        "Ejercicio 2"
      ],
      "metadata": {
        "id": "lPP8LOs5MSWT"
      }
    },
    {
      "cell_type": "code",
      "source": [
        "sum = 0\n",
        "acum = 0\n",
        "while (sum < 50) and (acum < 10):\n",
        "  x = int(input(\"Ingrese un numero entero:\"))\n",
        "  if x % 2 == 0:\n",
        "    sum=sum+x\n",
        "    acum+=1\n",
        "  else:\n",
        "    acum+=1\n",
        "if sum>= 50:\n",
        "  print(\"Finalizado por superar la suma de 50\")\n",
        "else:\n",
        "  print(\"Finalizado por superar 10 numeros ingresados\")"
      ],
      "metadata": {
        "id": "L_NPimR8MTWc",
        "colab": {
          "base_uri": "https://localhost:8080/"
        },
        "outputId": "28c2e9ea-872b-4131-a3b6-96bbf19c24f8"
      },
      "execution_count": 12,
      "outputs": [
        {
          "output_type": "stream",
          "name": "stdout",
          "text": [
            "Ingrese un numero entero:15\n",
            "Ingrese un numero entero:19\n",
            "Ingrese un numero entero:4\n",
            "Ingrese un numero entero:12\n",
            "Ingrese un numero entero:16\n",
            "Ingrese un numero entero:3\n",
            "Ingrese un numero entero:1\n",
            "Ingrese un numero entero:5\n",
            "Ingrese un numero entero:12\n",
            "Ingrese un numero entero:8\n",
            "Finalizado por superar la suma de 50\n"
          ]
        }
      ]
    }
  ]
}